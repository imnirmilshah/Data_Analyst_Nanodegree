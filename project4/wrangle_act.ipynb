{
  "nbformat": 4,
  "nbformat_minor": 0,
  "metadata": {
    "kernelspec": {
      "display_name": "Python 3",
      "language": "python",
      "name": "python3"
    },
    "language_info": {
      "codemirror_mode": {
        "name": "ipython",
        "version": 3
      },
      "file_extension": ".py",
      "mimetype": "text/x-python",
      "name": "python",
      "nbconvert_exporter": "python",
      "pygments_lexer": "ipython3",
      "version": "3.7.5"
    },
    "colab": {
      "name": "wrangle_act_Nirmil.ipynb",
      "provenance": [],
      "toc_visible": true
    }
  },
  "cells": [
    {
      "cell_type": "markdown",
      "metadata": {
        "id": "yXG2i0Kbp87Y",
        "colab_type": "text"
      },
      "source": [
        "\n",
        "# Data wrangling \n",
        "#WeRateDogs\n",
        "\n",
        "\n",
        "## Table of Contents:\n",
        "\n",
        "1. Introduction\n",
        "* Gathering data\n",
        "* Assessing data\n",
        "* Cleaning data\n",
        "* Storing\n",
        "* Visualizing\n",
        "\n",
        "\n",
        "## Introduction\n",
        "The dataset that is wrangled is the tweet archive of Twitter user @dog_rateThe purpose of this project is to put in practice what I learned in data wrangling data section from Udacity Data Analysis Nanodegree program. \n"
      ]
    },
    {
      "cell_type": "code",
      "metadata": {
        "id": "fXDYVl-2qE4a",
        "colab_type": "code",
        "colab": {
          "base_uri": "https://localhost:8080/",
          "height": 528
        },
        "outputId": "af7e7757-0743-4cd0-84b7-208462e5d64b"
      },
      "source": [
        "from google.colab import drive\n",
        "drive.mount('/content/drive')"
      ],
      "execution_count": 1,
      "outputs": [
        {
          "output_type": "error",
          "ename": "KeyboardInterrupt",
          "evalue": "ignored",
          "traceback": [
            "\u001b[0;31m---------------------------------------------------------------------------\u001b[0m",
            "\u001b[0;31mKeyboardInterrupt\u001b[0m                         Traceback (most recent call last)",
            "\u001b[0;32m/usr/local/lib/python3.6/dist-packages/ipykernel/kernelbase.py\u001b[0m in \u001b[0;36m_input_request\u001b[0;34m(self, prompt, ident, parent, password)\u001b[0m\n\u001b[1;32m    729\u001b[0m             \u001b[0;32mtry\u001b[0m\u001b[0;34m:\u001b[0m\u001b[0;34m\u001b[0m\u001b[0;34m\u001b[0m\u001b[0m\n\u001b[0;32m--> 730\u001b[0;31m                 \u001b[0mident\u001b[0m\u001b[0;34m,\u001b[0m \u001b[0mreply\u001b[0m \u001b[0;34m=\u001b[0m \u001b[0mself\u001b[0m\u001b[0;34m.\u001b[0m\u001b[0msession\u001b[0m\u001b[0;34m.\u001b[0m\u001b[0mrecv\u001b[0m\u001b[0;34m(\u001b[0m\u001b[0mself\u001b[0m\u001b[0;34m.\u001b[0m\u001b[0mstdin_socket\u001b[0m\u001b[0;34m,\u001b[0m \u001b[0;36m0\u001b[0m\u001b[0;34m)\u001b[0m\u001b[0;34m\u001b[0m\u001b[0;34m\u001b[0m\u001b[0m\n\u001b[0m\u001b[1;32m    731\u001b[0m             \u001b[0;32mexcept\u001b[0m \u001b[0mException\u001b[0m\u001b[0;34m:\u001b[0m\u001b[0;34m\u001b[0m\u001b[0;34m\u001b[0m\u001b[0m\n",
            "\u001b[0;32m/usr/local/lib/python3.6/dist-packages/jupyter_client/session.py\u001b[0m in \u001b[0;36mrecv\u001b[0;34m(self, socket, mode, content, copy)\u001b[0m\n\u001b[1;32m    802\u001b[0m         \u001b[0;32mtry\u001b[0m\u001b[0;34m:\u001b[0m\u001b[0;34m\u001b[0m\u001b[0;34m\u001b[0m\u001b[0m\n\u001b[0;32m--> 803\u001b[0;31m             \u001b[0mmsg_list\u001b[0m \u001b[0;34m=\u001b[0m \u001b[0msocket\u001b[0m\u001b[0;34m.\u001b[0m\u001b[0mrecv_multipart\u001b[0m\u001b[0;34m(\u001b[0m\u001b[0mmode\u001b[0m\u001b[0;34m,\u001b[0m \u001b[0mcopy\u001b[0m\u001b[0;34m=\u001b[0m\u001b[0mcopy\u001b[0m\u001b[0;34m)\u001b[0m\u001b[0;34m\u001b[0m\u001b[0;34m\u001b[0m\u001b[0m\n\u001b[0m\u001b[1;32m    804\u001b[0m         \u001b[0;32mexcept\u001b[0m \u001b[0mzmq\u001b[0m\u001b[0;34m.\u001b[0m\u001b[0mZMQError\u001b[0m \u001b[0;32mas\u001b[0m \u001b[0me\u001b[0m\u001b[0;34m:\u001b[0m\u001b[0;34m\u001b[0m\u001b[0;34m\u001b[0m\u001b[0m\n",
            "\u001b[0;32m/usr/local/lib/python3.6/dist-packages/zmq/sugar/socket.py\u001b[0m in \u001b[0;36mrecv_multipart\u001b[0;34m(self, flags, copy, track)\u001b[0m\n\u001b[1;32m    465\u001b[0m         \"\"\"\n\u001b[0;32m--> 466\u001b[0;31m         \u001b[0mparts\u001b[0m \u001b[0;34m=\u001b[0m \u001b[0;34m[\u001b[0m\u001b[0mself\u001b[0m\u001b[0;34m.\u001b[0m\u001b[0mrecv\u001b[0m\u001b[0;34m(\u001b[0m\u001b[0mflags\u001b[0m\u001b[0;34m,\u001b[0m \u001b[0mcopy\u001b[0m\u001b[0;34m=\u001b[0m\u001b[0mcopy\u001b[0m\u001b[0;34m,\u001b[0m \u001b[0mtrack\u001b[0m\u001b[0;34m=\u001b[0m\u001b[0mtrack\u001b[0m\u001b[0;34m)\u001b[0m\u001b[0;34m]\u001b[0m\u001b[0;34m\u001b[0m\u001b[0;34m\u001b[0m\u001b[0m\n\u001b[0m\u001b[1;32m    467\u001b[0m         \u001b[0;31m# have first part already, only loop while more to receive\u001b[0m\u001b[0;34m\u001b[0m\u001b[0;34m\u001b[0m\u001b[0;34m\u001b[0m\u001b[0m\n",
            "\u001b[0;32mzmq/backend/cython/socket.pyx\u001b[0m in \u001b[0;36mzmq.backend.cython.socket.Socket.recv\u001b[0;34m()\u001b[0m\n",
            "\u001b[0;32mzmq/backend/cython/socket.pyx\u001b[0m in \u001b[0;36mzmq.backend.cython.socket.Socket.recv\u001b[0;34m()\u001b[0m\n",
            "\u001b[0;32mzmq/backend/cython/socket.pyx\u001b[0m in \u001b[0;36mzmq.backend.cython.socket._recv_copy\u001b[0;34m()\u001b[0m\n",
            "\u001b[0;32m/usr/local/lib/python3.6/dist-packages/zmq/backend/cython/checkrc.pxd\u001b[0m in \u001b[0;36mzmq.backend.cython.checkrc._check_rc\u001b[0;34m()\u001b[0m\n",
            "\u001b[0;31mKeyboardInterrupt\u001b[0m: ",
            "\nDuring handling of the above exception, another exception occurred:\n",
            "\u001b[0;31mKeyboardInterrupt\u001b[0m                         Traceback (most recent call last)",
            "\u001b[0;32m<ipython-input-1-d5df0069828e>\u001b[0m in \u001b[0;36m<module>\u001b[0;34m()\u001b[0m\n\u001b[1;32m      1\u001b[0m \u001b[0;32mfrom\u001b[0m \u001b[0mgoogle\u001b[0m\u001b[0;34m.\u001b[0m\u001b[0mcolab\u001b[0m \u001b[0;32mimport\u001b[0m \u001b[0mdrive\u001b[0m\u001b[0;34m\u001b[0m\u001b[0;34m\u001b[0m\u001b[0m\n\u001b[0;32m----> 2\u001b[0;31m \u001b[0mdrive\u001b[0m\u001b[0;34m.\u001b[0m\u001b[0mmount\u001b[0m\u001b[0;34m(\u001b[0m\u001b[0;34m'/content/drive'\u001b[0m\u001b[0;34m)\u001b[0m\u001b[0;34m\u001b[0m\u001b[0;34m\u001b[0m\u001b[0m\n\u001b[0m",
            "\u001b[0;32m/usr/local/lib/python3.6/dist-packages/google/colab/drive.py\u001b[0m in \u001b[0;36mmount\u001b[0;34m(mountpoint, force_remount, timeout_ms, use_metadata_server)\u001b[0m\n\u001b[1;32m    236\u001b[0m       \u001b[0mauth_prompt\u001b[0m \u001b[0;34m=\u001b[0m \u001b[0md\u001b[0m\u001b[0;34m.\u001b[0m\u001b[0mmatch\u001b[0m\u001b[0;34m.\u001b[0m\u001b[0mgroup\u001b[0m\u001b[0;34m(\u001b[0m\u001b[0;36m1\u001b[0m\u001b[0;34m)\u001b[0m \u001b[0;34m+\u001b[0m \u001b[0;34m'\\nEnter your authorization code:\\n'\u001b[0m\u001b[0;34m\u001b[0m\u001b[0;34m\u001b[0m\u001b[0m\n\u001b[1;32m    237\u001b[0m       \u001b[0;32mwith\u001b[0m \u001b[0mopen\u001b[0m\u001b[0;34m(\u001b[0m\u001b[0mfifo\u001b[0m\u001b[0;34m,\u001b[0m \u001b[0;34m'w'\u001b[0m\u001b[0;34m)\u001b[0m \u001b[0;32mas\u001b[0m \u001b[0mfifo_file\u001b[0m\u001b[0;34m:\u001b[0m\u001b[0;34m\u001b[0m\u001b[0;34m\u001b[0m\u001b[0m\n\u001b[0;32m--> 238\u001b[0;31m         \u001b[0mfifo_file\u001b[0m\u001b[0;34m.\u001b[0m\u001b[0mwrite\u001b[0m\u001b[0;34m(\u001b[0m\u001b[0m_getpass\u001b[0m\u001b[0;34m.\u001b[0m\u001b[0mgetpass\u001b[0m\u001b[0;34m(\u001b[0m\u001b[0mauth_prompt\u001b[0m\u001b[0;34m)\u001b[0m \u001b[0;34m+\u001b[0m \u001b[0;34m'\\n'\u001b[0m\u001b[0;34m)\u001b[0m\u001b[0;34m\u001b[0m\u001b[0;34m\u001b[0m\u001b[0m\n\u001b[0m\u001b[1;32m    239\u001b[0m       \u001b[0mwrote_to_fifo\u001b[0m \u001b[0;34m=\u001b[0m \u001b[0;32mTrue\u001b[0m\u001b[0;34m\u001b[0m\u001b[0;34m\u001b[0m\u001b[0m\n\u001b[1;32m    240\u001b[0m   \u001b[0;32mif\u001b[0m \u001b[0;32mnot\u001b[0m \u001b[0mwrote_to_fifo\u001b[0m\u001b[0;34m:\u001b[0m\u001b[0;34m\u001b[0m\u001b[0;34m\u001b[0m\u001b[0m\n",
            "\u001b[0;32m/usr/local/lib/python3.6/dist-packages/ipykernel/kernelbase.py\u001b[0m in \u001b[0;36mgetpass\u001b[0;34m(self, prompt, stream)\u001b[0m\n\u001b[1;32m    686\u001b[0m             \u001b[0mself\u001b[0m\u001b[0;34m.\u001b[0m\u001b[0m_parent_ident\u001b[0m\u001b[0;34m,\u001b[0m\u001b[0;34m\u001b[0m\u001b[0;34m\u001b[0m\u001b[0m\n\u001b[1;32m    687\u001b[0m             \u001b[0mself\u001b[0m\u001b[0;34m.\u001b[0m\u001b[0m_parent_header\u001b[0m\u001b[0;34m,\u001b[0m\u001b[0;34m\u001b[0m\u001b[0;34m\u001b[0m\u001b[0m\n\u001b[0;32m--> 688\u001b[0;31m             \u001b[0mpassword\u001b[0m\u001b[0;34m=\u001b[0m\u001b[0;32mTrue\u001b[0m\u001b[0;34m,\u001b[0m\u001b[0;34m\u001b[0m\u001b[0;34m\u001b[0m\u001b[0m\n\u001b[0m\u001b[1;32m    689\u001b[0m         )\n\u001b[1;32m    690\u001b[0m \u001b[0;34m\u001b[0m\u001b[0m\n",
            "\u001b[0;32m/usr/local/lib/python3.6/dist-packages/ipykernel/kernelbase.py\u001b[0m in \u001b[0;36m_input_request\u001b[0;34m(self, prompt, ident, parent, password)\u001b[0m\n\u001b[1;32m    733\u001b[0m             \u001b[0;32mexcept\u001b[0m \u001b[0mKeyboardInterrupt\u001b[0m\u001b[0;34m:\u001b[0m\u001b[0;34m\u001b[0m\u001b[0;34m\u001b[0m\u001b[0m\n\u001b[1;32m    734\u001b[0m                 \u001b[0;31m# re-raise KeyboardInterrupt, to truncate traceback\u001b[0m\u001b[0;34m\u001b[0m\u001b[0;34m\u001b[0m\u001b[0;34m\u001b[0m\u001b[0m\n\u001b[0;32m--> 735\u001b[0;31m                 \u001b[0;32mraise\u001b[0m \u001b[0mKeyboardInterrupt\u001b[0m\u001b[0;34m\u001b[0m\u001b[0;34m\u001b[0m\u001b[0m\n\u001b[0m\u001b[1;32m    736\u001b[0m             \u001b[0;32melse\u001b[0m\u001b[0;34m:\u001b[0m\u001b[0;34m\u001b[0m\u001b[0;34m\u001b[0m\u001b[0m\n\u001b[1;32m    737\u001b[0m                 \u001b[0;32mbreak\u001b[0m\u001b[0;34m\u001b[0m\u001b[0;34m\u001b[0m\u001b[0m\n",
            "\u001b[0;31mKeyboardInterrupt\u001b[0m: "
          ]
        }
      ]
    },
    {
      "cell_type": "code",
      "metadata": {
        "id": "IhIP5ib2p87b",
        "colab_type": "code",
        "colab": {}
      },
      "source": [
        "import os\n",
        "import pandas as pd\n",
        "import numpy as np\n",
        "import matplotlib.pyplot as plt\n",
        "import seaborn as sns\n",
        "import tweepy\n",
        "import requests\n",
        "import time\n",
        "import json\n",
        "import re\n",
        "\n",
        "%matplotlib inline\n",
        "%load_ext autoreload\n",
        "%autoreload 2"
      ],
      "execution_count": 0,
      "outputs": []
    },
    {
      "cell_type": "markdown",
      "metadata": {
        "id": "zkIFy3Nap87f",
        "colab_type": "text"
      },
      "source": [
        "## Gathering Data\n",
        "\n",
        "\n",
        " twitter_archive_enhanced.csv has been downloaded manually\n",
        "\n",
        "The tweet image predictions, i.e., what breed of dog is present in each tweet according to a neural network. This file (image_predictions.tsv) is hosted on Udacity's servers and should be downloaded programmatically using the Requests library and the following URL: https://d17h27t6h515a5.cloudfront.net/topher/2017/August/599fd2ad_image-predictions/image-predictions.tsv\n",
        "\n"
      ]
    },
    {
      "cell_type": "code",
      "metadata": {
        "id": "wjf9Oir5p87g",
        "colab_type": "code",
        "colab": {
          "base_uri": "https://localhost:8080/",
          "height": 34
        },
        "outputId": "4ec257fc-5535-4679-adcf-67e7d48beb61"
      },
      "source": [
        "# import dataset\n",
        "PATH = \"\"\n",
        "!ls {PATH}"
      ],
      "execution_count": 3,
      "outputs": [
        {
          "output_type": "stream",
          "text": [
            "sample_data  twitter-archive-enhanced.csv  twitter_archive_master.csv\n"
          ],
          "name": "stdout"
        }
      ]
    },
    {
      "cell_type": "code",
      "metadata": {
        "id": "-iknPvoIp87j",
        "colab_type": "code",
        "colab": {
          "base_uri": "https://localhost:8080/",
          "height": 581
        },
        "outputId": "ef7ab94e-a084-43b8-966a-602cd7ca3454"
      },
      "source": [
        "df_archive = pd.read_csv(f'{PATH}twitter-archive-enhanced.csv', low_memory=False)\n",
        "#tarchive.set_index('tweet_id', inplace=True)\n",
        "df_archive.head()"
      ],
      "execution_count": 62,
      "outputs": [
        {
          "output_type": "execute_result",
          "data": {
            "text/html": [
              "<div>\n",
              "<style scoped>\n",
              "    .dataframe tbody tr th:only-of-type {\n",
              "        vertical-align: middle;\n",
              "    }\n",
              "\n",
              "    .dataframe tbody tr th {\n",
              "        vertical-align: top;\n",
              "    }\n",
              "\n",
              "    .dataframe thead th {\n",
              "        text-align: right;\n",
              "    }\n",
              "</style>\n",
              "<table border=\"1\" class=\"dataframe\">\n",
              "  <thead>\n",
              "    <tr style=\"text-align: right;\">\n",
              "      <th></th>\n",
              "      <th>tweet_id</th>\n",
              "      <th>in_reply_to_status_id</th>\n",
              "      <th>in_reply_to_user_id</th>\n",
              "      <th>timestamp</th>\n",
              "      <th>source</th>\n",
              "      <th>text</th>\n",
              "      <th>retweeted_status_id</th>\n",
              "      <th>retweeted_status_user_id</th>\n",
              "      <th>retweeted_status_timestamp</th>\n",
              "      <th>expanded_urls</th>\n",
              "      <th>rating_numerator</th>\n",
              "      <th>rating_denominator</th>\n",
              "      <th>name</th>\n",
              "      <th>doggo</th>\n",
              "      <th>floofer</th>\n",
              "      <th>pupper</th>\n",
              "      <th>puppo</th>\n",
              "    </tr>\n",
              "  </thead>\n",
              "  <tbody>\n",
              "    <tr>\n",
              "      <th>0</th>\n",
              "      <td>892420643555336193</td>\n",
              "      <td>NaN</td>\n",
              "      <td>NaN</td>\n",
              "      <td>2017-08-01 16:23:56 +0000</td>\n",
              "      <td>&lt;a href=\"http://twitter.com/download/iphone\" r...</td>\n",
              "      <td>This is Phineas. He's a mystical boy. Only eve...</td>\n",
              "      <td>NaN</td>\n",
              "      <td>NaN</td>\n",
              "      <td>NaN</td>\n",
              "      <td>https://twitter.com/dog_rates/status/892420643...</td>\n",
              "      <td>13</td>\n",
              "      <td>10</td>\n",
              "      <td>Phineas</td>\n",
              "      <td>None</td>\n",
              "      <td>None</td>\n",
              "      <td>None</td>\n",
              "      <td>None</td>\n",
              "    </tr>\n",
              "    <tr>\n",
              "      <th>1</th>\n",
              "      <td>892177421306343426</td>\n",
              "      <td>NaN</td>\n",
              "      <td>NaN</td>\n",
              "      <td>2017-08-01 00:17:27 +0000</td>\n",
              "      <td>&lt;a href=\"http://twitter.com/download/iphone\" r...</td>\n",
              "      <td>This is Tilly. She's just checking pup on you....</td>\n",
              "      <td>NaN</td>\n",
              "      <td>NaN</td>\n",
              "      <td>NaN</td>\n",
              "      <td>https://twitter.com/dog_rates/status/892177421...</td>\n",
              "      <td>13</td>\n",
              "      <td>10</td>\n",
              "      <td>Tilly</td>\n",
              "      <td>None</td>\n",
              "      <td>None</td>\n",
              "      <td>None</td>\n",
              "      <td>None</td>\n",
              "    </tr>\n",
              "    <tr>\n",
              "      <th>2</th>\n",
              "      <td>891815181378084864</td>\n",
              "      <td>NaN</td>\n",
              "      <td>NaN</td>\n",
              "      <td>2017-07-31 00:18:03 +0000</td>\n",
              "      <td>&lt;a href=\"http://twitter.com/download/iphone\" r...</td>\n",
              "      <td>This is Archie. He is a rare Norwegian Pouncin...</td>\n",
              "      <td>NaN</td>\n",
              "      <td>NaN</td>\n",
              "      <td>NaN</td>\n",
              "      <td>https://twitter.com/dog_rates/status/891815181...</td>\n",
              "      <td>12</td>\n",
              "      <td>10</td>\n",
              "      <td>Archie</td>\n",
              "      <td>None</td>\n",
              "      <td>None</td>\n",
              "      <td>None</td>\n",
              "      <td>None</td>\n",
              "    </tr>\n",
              "    <tr>\n",
              "      <th>3</th>\n",
              "      <td>891689557279858688</td>\n",
              "      <td>NaN</td>\n",
              "      <td>NaN</td>\n",
              "      <td>2017-07-30 15:58:51 +0000</td>\n",
              "      <td>&lt;a href=\"http://twitter.com/download/iphone\" r...</td>\n",
              "      <td>This is Darla. She commenced a snooze mid meal...</td>\n",
              "      <td>NaN</td>\n",
              "      <td>NaN</td>\n",
              "      <td>NaN</td>\n",
              "      <td>https://twitter.com/dog_rates/status/891689557...</td>\n",
              "      <td>13</td>\n",
              "      <td>10</td>\n",
              "      <td>Darla</td>\n",
              "      <td>None</td>\n",
              "      <td>None</td>\n",
              "      <td>None</td>\n",
              "      <td>None</td>\n",
              "    </tr>\n",
              "    <tr>\n",
              "      <th>4</th>\n",
              "      <td>891327558926688256</td>\n",
              "      <td>NaN</td>\n",
              "      <td>NaN</td>\n",
              "      <td>2017-07-29 16:00:24 +0000</td>\n",
              "      <td>&lt;a href=\"http://twitter.com/download/iphone\" r...</td>\n",
              "      <td>This is Franklin. He would like you to stop ca...</td>\n",
              "      <td>NaN</td>\n",
              "      <td>NaN</td>\n",
              "      <td>NaN</td>\n",
              "      <td>https://twitter.com/dog_rates/status/891327558...</td>\n",
              "      <td>12</td>\n",
              "      <td>10</td>\n",
              "      <td>Franklin</td>\n",
              "      <td>None</td>\n",
              "      <td>None</td>\n",
              "      <td>None</td>\n",
              "      <td>None</td>\n",
              "    </tr>\n",
              "  </tbody>\n",
              "</table>\n",
              "</div>"
            ],
            "text/plain": [
              "             tweet_id  in_reply_to_status_id  ...  pupper puppo\n",
              "0  892420643555336193                    NaN  ...    None  None\n",
              "1  892177421306343426                    NaN  ...    None  None\n",
              "2  891815181378084864                    NaN  ...    None  None\n",
              "3  891689557279858688                    NaN  ...    None  None\n",
              "4  891327558926688256                    NaN  ...    None  None\n",
              "\n",
              "[5 rows x 17 columns]"
            ]
          },
          "metadata": {
            "tags": []
          },
          "execution_count": 62
        }
      ]
    },
    {
      "cell_type": "code",
      "metadata": {
        "id": "MG4r8jFXp87l",
        "colab_type": "code",
        "colab": {
          "base_uri": "https://localhost:8080/",
          "height": 224
        },
        "outputId": "a9f4e5be-8299-44b2-931e-16d5136f4aff"
      },
      "source": [
        "image_url = \"https://d17h27t6h515a5.cloudfront.net/topher/2017/August/599fd2ad_image-predictions/image-predictions.tsv\"\n",
        "r = requests.get(image_url)\n",
        "\n",
        "with open(image_url.split('/')[-1], mode='wb') as file:\n",
        "    file.write(r.content)\n",
        "\n",
        "df_img = pd.read_csv('image-predictions.tsv', sep='\\t')\n",
        "df_img.head()"
      ],
      "execution_count": 91,
      "outputs": [
        {
          "output_type": "execute_result",
          "data": {
            "text/html": [
              "<div>\n",
              "<style scoped>\n",
              "    .dataframe tbody tr th:only-of-type {\n",
              "        vertical-align: middle;\n",
              "    }\n",
              "\n",
              "    .dataframe tbody tr th {\n",
              "        vertical-align: top;\n",
              "    }\n",
              "\n",
              "    .dataframe thead th {\n",
              "        text-align: right;\n",
              "    }\n",
              "</style>\n",
              "<table border=\"1\" class=\"dataframe\">\n",
              "  <thead>\n",
              "    <tr style=\"text-align: right;\">\n",
              "      <th></th>\n",
              "      <th>tweet_id</th>\n",
              "      <th>jpg_url</th>\n",
              "      <th>img_num</th>\n",
              "      <th>p1</th>\n",
              "      <th>p1_conf</th>\n",
              "      <th>p1_dog</th>\n",
              "      <th>p2</th>\n",
              "      <th>p2_conf</th>\n",
              "      <th>p2_dog</th>\n",
              "      <th>p3</th>\n",
              "      <th>p3_conf</th>\n",
              "      <th>p3_dog</th>\n",
              "    </tr>\n",
              "  </thead>\n",
              "  <tbody>\n",
              "    <tr>\n",
              "      <th>0</th>\n",
              "      <td>666020888022790149</td>\n",
              "      <td>https://pbs.twimg.com/media/CT4udn0WwAA0aMy.jpg</td>\n",
              "      <td>1</td>\n",
              "      <td>Welsh_springer_spaniel</td>\n",
              "      <td>0.465074</td>\n",
              "      <td>True</td>\n",
              "      <td>collie</td>\n",
              "      <td>0.156665</td>\n",
              "      <td>True</td>\n",
              "      <td>Shetland_sheepdog</td>\n",
              "      <td>0.061428</td>\n",
              "      <td>True</td>\n",
              "    </tr>\n",
              "    <tr>\n",
              "      <th>1</th>\n",
              "      <td>666029285002620928</td>\n",
              "      <td>https://pbs.twimg.com/media/CT42GRgUYAA5iDo.jpg</td>\n",
              "      <td>1</td>\n",
              "      <td>redbone</td>\n",
              "      <td>0.506826</td>\n",
              "      <td>True</td>\n",
              "      <td>miniature_pinscher</td>\n",
              "      <td>0.074192</td>\n",
              "      <td>True</td>\n",
              "      <td>Rhodesian_ridgeback</td>\n",
              "      <td>0.072010</td>\n",
              "      <td>True</td>\n",
              "    </tr>\n",
              "    <tr>\n",
              "      <th>2</th>\n",
              "      <td>666033412701032449</td>\n",
              "      <td>https://pbs.twimg.com/media/CT4521TWwAEvMyu.jpg</td>\n",
              "      <td>1</td>\n",
              "      <td>German_shepherd</td>\n",
              "      <td>0.596461</td>\n",
              "      <td>True</td>\n",
              "      <td>malinois</td>\n",
              "      <td>0.138584</td>\n",
              "      <td>True</td>\n",
              "      <td>bloodhound</td>\n",
              "      <td>0.116197</td>\n",
              "      <td>True</td>\n",
              "    </tr>\n",
              "    <tr>\n",
              "      <th>3</th>\n",
              "      <td>666044226329800704</td>\n",
              "      <td>https://pbs.twimg.com/media/CT5Dr8HUEAA-lEu.jpg</td>\n",
              "      <td>1</td>\n",
              "      <td>Rhodesian_ridgeback</td>\n",
              "      <td>0.408143</td>\n",
              "      <td>True</td>\n",
              "      <td>redbone</td>\n",
              "      <td>0.360687</td>\n",
              "      <td>True</td>\n",
              "      <td>miniature_pinscher</td>\n",
              "      <td>0.222752</td>\n",
              "      <td>True</td>\n",
              "    </tr>\n",
              "    <tr>\n",
              "      <th>4</th>\n",
              "      <td>666049248165822465</td>\n",
              "      <td>https://pbs.twimg.com/media/CT5IQmsXIAAKY4A.jpg</td>\n",
              "      <td>1</td>\n",
              "      <td>miniature_pinscher</td>\n",
              "      <td>0.560311</td>\n",
              "      <td>True</td>\n",
              "      <td>Rottweiler</td>\n",
              "      <td>0.243682</td>\n",
              "      <td>True</td>\n",
              "      <td>Doberman</td>\n",
              "      <td>0.154629</td>\n",
              "      <td>True</td>\n",
              "    </tr>\n",
              "  </tbody>\n",
              "</table>\n",
              "</div>"
            ],
            "text/plain": [
              "             tweet_id  ... p3_dog\n",
              "0  666020888022790149  ...   True\n",
              "1  666029285002620928  ...   True\n",
              "2  666033412701032449  ...   True\n",
              "3  666044226329800704  ...   True\n",
              "4  666049248165822465  ...   True\n",
              "\n",
              "[5 rows x 12 columns]"
            ]
          },
          "metadata": {
            "tags": []
          },
          "execution_count": 91
        }
      ]
    },
    {
      "cell_type": "code",
      "metadata": {
        "id": "RZ9Rw5XPp87o",
        "colab_type": "code",
        "colab": {}
      },
      "source": [
        "# Twitter API setup\n",
        "\n",
        "consumer_key = 'EY2COV3DiKnHiz5HPtfmZuONL'\n",
        "consumer_secret = '0ibe93PYLQFcxzeyVjZutZKYX9MUUD12eHz8oS1tinKOAIHPVJ'\n",
        "access_token = '1227329906352312323-saB80W97pWGTEsl3UdGXByI6cPXHOG'\n",
        "access_secret = 'ejIifnez1uzjOz3CnsQ5SqDDtLZVwJXv1UWuJhuD53pwP'\n",
        "\n",
        "auth = tweepy.OAuthHandler(consumer_key, consumer_secret)\n",
        "auth.set_access_token(access_token, access_secret)\n",
        "\n",
        "#api = tweepy.API(auth)\n",
        "api = tweepy.API(auth, \n",
        "                 parser=tweepy.parsers.JSONParser(), \n",
        "                 wait_on_rate_limit=True,\n",
        "                 wait_on_rate_limit_notify = True)\n"
      ],
      "execution_count": 0,
      "outputs": []
    },
    {
      "cell_type": "code",
      "metadata": {
        "id": "HX7lMaEIp87q",
        "colab_type": "code",
        "colab": {
          "base_uri": "https://localhost:8080/",
          "height": 493
        },
        "outputId": "43796961-b7eb-497a-cedb-b50915f09dd9"
      },
      "source": [
        "# For loop which will add each available tweet json to df_list\n",
        "\n",
        "api_data = []\n",
        "\n",
        "exceptions = []\n",
        "\n",
        "tweet_ids = df_tarchive.tweet_id\n",
        "# Calculate the time of execution\n",
        "start = time.time()\n",
        "\n",
        "for tweet_id in tweet_ids:\n",
        "    try:\n",
        "        tweet = api.get_status(tweet_id, tweet_mode='extended')\n",
        "        favorites = tweet['favorite_count'] # How many favorites the tweet had\n",
        "        retweets = tweet['retweet_count'] # Count of the retweet\n",
        "        user_followers = tweet['user']['followers_count'] # How many followers the user had\n",
        "        user_favourites = tweet['user']['favourites_count'] # How many favorites the user had\n",
        "        date_time = tweet['created_at'] # The date and time of the creation\n",
        "        \n",
        "        api_data.append({'tweet_id': int(tweet_id),\n",
        "                        'favorites': int(favorites),\n",
        "                        'retweets': int(retweets),\n",
        "                        'user_followers': int(user_followers),\n",
        "                        'user_favourites': int(user_favourites),\n",
        "                        'date_time': pd.to_datetime(date_time)})\n",
        "    except Exception as e:\n",
        "        print(str(tweet_id)+ \" _ \" + str(e))\n",
        "        exceptions.append(tweet_id)\n",
        "# Calculate the time of excution\n",
        "end = time.time()\n",
        "print(end - start)"
      ],
      "execution_count": 7,
      "outputs": [
        {
          "output_type": "stream",
          "text": [
            "888202515573088257 _ [{'code': 144, 'message': 'No status found with that ID.'}]\n",
            "873697596434513921 _ [{'code': 144, 'message': 'No status found with that ID.'}]\n",
            "872668790621863937 _ [{'code': 144, 'message': 'No status found with that ID.'}]\n",
            "872261713294495745 _ [{'code': 144, 'message': 'No status found with that ID.'}]\n",
            "869988702071779329 _ [{'code': 144, 'message': 'No status found with that ID.'}]\n",
            "866816280283807744 _ [{'code': 144, 'message': 'No status found with that ID.'}]\n",
            "861769973181624320 _ [{'code': 144, 'message': 'No status found with that ID.'}]\n",
            "856602993587888130 _ [{'code': 144, 'message': 'No status found with that ID.'}]\n",
            "851953902622658560 _ [{'code': 144, 'message': 'No status found with that ID.'}]\n",
            "845459076796616705 _ [{'code': 144, 'message': 'No status found with that ID.'}]\n",
            "844704788403113984 _ [{'code': 144, 'message': 'No status found with that ID.'}]\n",
            "842892208864923648 _ [{'code': 144, 'message': 'No status found with that ID.'}]\n",
            "837366284874571778 _ [{'code': 144, 'message': 'No status found with that ID.'}]\n",
            "837012587749474308 _ [{'code': 144, 'message': 'No status found with that ID.'}]\n",
            "829374341691346946 _ [{'code': 144, 'message': 'No status found with that ID.'}]\n",
            "827228250799742977 _ [{'code': 144, 'message': 'No status found with that ID.'}]\n",
            "812747805718642688 _ [{'code': 144, 'message': 'No status found with that ID.'}]\n",
            "802247111496568832 _ [{'code': 144, 'message': 'No status found with that ID.'}]\n",
            "779123168116150273 _ [{'code': 144, 'message': 'No status found with that ID.'}]\n",
            "775096608509886464 _ [{'code': 144, 'message': 'No status found with that ID.'}]\n",
            "771004394259247104 _ [{'code': 179, 'message': 'Sorry, you are not authorized to see this status.'}]\n",
            "770743923962707968 _ [{'code': 144, 'message': 'No status found with that ID.'}]\n",
            "759566828574212096 _ [{'code': 144, 'message': 'No status found with that ID.'}]\n"
          ],
          "name": "stdout"
        },
        {
          "output_type": "stream",
          "text": [
            "Rate limit reached. Sleeping for: 590\n"
          ],
          "name": "stderr"
        },
        {
          "output_type": "stream",
          "text": [
            "754011816964026368 _ [{'code': 144, 'message': 'No status found with that ID.'}]\n",
            "680055455951884288 _ [{'code': 144, 'message': 'No status found with that ID.'}]\n"
          ],
          "name": "stdout"
        },
        {
          "output_type": "stream",
          "text": [
            "Rate limit reached. Sleeping for: 592\n"
          ],
          "name": "stderr"
        },
        {
          "output_type": "stream",
          "text": [
            "2001.3314583301544\n"
          ],
          "name": "stdout"
        }
      ]
    },
    {
      "cell_type": "code",
      "metadata": {
        "id": "F2TtmGqGp87t",
        "colab_type": "code",
        "colab": {
          "base_uri": "https://localhost:8080/",
          "height": 442
        },
        "outputId": "feb45653-356a-49d9-bdd1-f8e2e6335db7"
      },
      "source": [
        "# showing exception errrors\n",
        "exceptions"
      ],
      "execution_count": 31,
      "outputs": [
        {
          "output_type": "execute_result",
          "data": {
            "text/plain": [
              "[888202515573088257,\n",
              " 873697596434513921,\n",
              " 872668790621863937,\n",
              " 872261713294495745,\n",
              " 869988702071779329,\n",
              " 866816280283807744,\n",
              " 861769973181624320,\n",
              " 856602993587888130,\n",
              " 851953902622658560,\n",
              " 845459076796616705,\n",
              " 844704788403113984,\n",
              " 842892208864923648,\n",
              " 837366284874571778,\n",
              " 837012587749474308,\n",
              " 829374341691346946,\n",
              " 827228250799742977,\n",
              " 812747805718642688,\n",
              " 802247111496568832,\n",
              " 779123168116150273,\n",
              " 775096608509886464,\n",
              " 771004394259247104,\n",
              " 770743923962707968,\n",
              " 759566828574212096,\n",
              " 754011816964026368,\n",
              " 680055455951884288]"
            ]
          },
          "metadata": {
            "tags": []
          },
          "execution_count": 31
        }
      ]
    },
    {
      "cell_type": "code",
      "metadata": {
        "id": "2hCYti7Op87w",
        "colab_type": "code",
        "colab": {
          "base_uri": "https://localhost:8080/",
          "height": 34
        },
        "outputId": "2c3dbcb5-9ea0-499c-aaf5-7688090a9b44"
      },
      "source": [
        "# length of fetched data and errors\n",
        "len(api_data), len(exceptions)"
      ],
      "execution_count": 32,
      "outputs": [
        {
          "output_type": "execute_result",
          "data": {
            "text/plain": [
              "(2331, 25)"
            ]
          },
          "metadata": {
            "tags": []
          },
          "execution_count": 32
        }
      ]
    },
    {
      "cell_type": "code",
      "metadata": {
        "id": "KCicSQuBp87y",
        "colab_type": "code",
        "colab": {
          "base_uri": "https://localhost:8080/",
          "height": 119
        },
        "outputId": "6e68da3c-f3bf-4638-a0be-54811bdc3efc"
      },
      "source": [
        "# checking fecthed data\n",
        "api_data[2]"
      ],
      "execution_count": 33,
      "outputs": [
        {
          "output_type": "execute_result",
          "data": {
            "text/plain": [
              "{'date_time': Timestamp('2017-07-31 00:18:03+0000', tz='UTC'),\n",
              " 'favorites': 23769,\n",
              " 'retweets': 3824,\n",
              " 'tweet_id': 891815181378084864,\n",
              " 'user_favourites': 144543,\n",
              " 'user_followers': 8662531}"
            ]
          },
          "metadata": {
            "tags": []
          },
          "execution_count": 33
        }
      ]
    },
    {
      "cell_type": "code",
      "metadata": {
        "id": "ALrdm00i-eds",
        "colab_type": "code",
        "colab": {}
      },
      "source": [
        "df_1 = pd.DataFrame(api_data, columns = ['tweet_id', 'favorites', 'retweets', 'user_followers', 'user_favourites', 'date_time'])"
      ],
      "execution_count": 0,
      "outputs": []
    },
    {
      "cell_type": "code",
      "metadata": {
        "id": "Wm69p45fp873",
        "colab_type": "code",
        "colab": {
          "base_uri": "https://localhost:8080/",
          "height": 204
        },
        "outputId": "e62084ed-852b-444c-c10c-03abcccfcd57"
      },
      "source": [
        "# import tweet.txt into dataframe\n",
        "#df_tweet = pd.read_csv('tweet.txt', encoding='utf-8')\n",
        "df_1.head()"
      ],
      "execution_count": 52,
      "outputs": [
        {
          "output_type": "execute_result",
          "data": {
            "text/html": [
              "<div>\n",
              "<style scoped>\n",
              "    .dataframe tbody tr th:only-of-type {\n",
              "        vertical-align: middle;\n",
              "    }\n",
              "\n",
              "    .dataframe tbody tr th {\n",
              "        vertical-align: top;\n",
              "    }\n",
              "\n",
              "    .dataframe thead th {\n",
              "        text-align: right;\n",
              "    }\n",
              "</style>\n",
              "<table border=\"1\" class=\"dataframe\">\n",
              "  <thead>\n",
              "    <tr style=\"text-align: right;\">\n",
              "      <th></th>\n",
              "      <th>tweet_id</th>\n",
              "      <th>favorites</th>\n",
              "      <th>retweets</th>\n",
              "      <th>user_followers</th>\n",
              "      <th>user_favourites</th>\n",
              "      <th>date_time</th>\n",
              "    </tr>\n",
              "  </thead>\n",
              "  <tbody>\n",
              "    <tr>\n",
              "      <th>0</th>\n",
              "      <td>892420643555336193</td>\n",
              "      <td>36614</td>\n",
              "      <td>7801</td>\n",
              "      <td>8662531</td>\n",
              "      <td>144543</td>\n",
              "      <td>2017-08-01 16:23:56+00:00</td>\n",
              "    </tr>\n",
              "    <tr>\n",
              "      <th>1</th>\n",
              "      <td>892177421306343426</td>\n",
              "      <td>31549</td>\n",
              "      <td>5776</td>\n",
              "      <td>8662531</td>\n",
              "      <td>144543</td>\n",
              "      <td>2017-08-01 00:17:27+00:00</td>\n",
              "    </tr>\n",
              "    <tr>\n",
              "      <th>2</th>\n",
              "      <td>891815181378084864</td>\n",
              "      <td>23769</td>\n",
              "      <td>3824</td>\n",
              "      <td>8662531</td>\n",
              "      <td>144543</td>\n",
              "      <td>2017-07-31 00:18:03+00:00</td>\n",
              "    </tr>\n",
              "    <tr>\n",
              "      <th>3</th>\n",
              "      <td>891689557279858688</td>\n",
              "      <td>39937</td>\n",
              "      <td>7959</td>\n",
              "      <td>8662531</td>\n",
              "      <td>144543</td>\n",
              "      <td>2017-07-30 15:58:51+00:00</td>\n",
              "    </tr>\n",
              "    <tr>\n",
              "      <th>4</th>\n",
              "      <td>891327558926688256</td>\n",
              "      <td>38136</td>\n",
              "      <td>8604</td>\n",
              "      <td>8662531</td>\n",
              "      <td>144543</td>\n",
              "      <td>2017-07-29 16:00:24+00:00</td>\n",
              "    </tr>\n",
              "  </tbody>\n",
              "</table>\n",
              "</div>"
            ],
            "text/plain": [
              "             tweet_id  favorites  ...  user_favourites                 date_time\n",
              "0  892420643555336193      36614  ...           144543 2017-08-01 16:23:56+00:00\n",
              "1  892177421306343426      31549  ...           144543 2017-08-01 00:17:27+00:00\n",
              "2  891815181378084864      23769  ...           144543 2017-07-31 00:18:03+00:00\n",
              "3  891689557279858688      39937  ...           144543 2017-07-30 15:58:51+00:00\n",
              "4  891327558926688256      38136  ...           144543 2017-07-29 16:00:24+00:00\n",
              "\n",
              "[5 rows x 6 columns]"
            ]
          },
          "metadata": {
            "tags": []
          },
          "execution_count": 52
        }
      ]
    },
    {
      "cell_type": "code",
      "metadata": {
        "id": "acPXPabtp875",
        "colab_type": "code",
        "colab": {
          "base_uri": "https://localhost:8080/",
          "height": 204
        },
        "outputId": "7a199a56-f7e2-49e5-ae8d-eb381b40feb5"
      },
      "source": [
        "# assesing data\n",
        "df_1.info()"
      ],
      "execution_count": 53,
      "outputs": [
        {
          "output_type": "stream",
          "text": [
            "<class 'pandas.core.frame.DataFrame'>\n",
            "RangeIndex: 2331 entries, 0 to 2330\n",
            "Data columns (total 6 columns):\n",
            "tweet_id           2331 non-null int64\n",
            "favorites          2331 non-null int64\n",
            "retweets           2331 non-null int64\n",
            "user_followers     2331 non-null int64\n",
            "user_favourites    2331 non-null int64\n",
            "date_time          2331 non-null datetime64[ns, UTC]\n",
            "dtypes: datetime64[ns, UTC](1), int64(5)\n",
            "memory usage: 109.4 KB\n"
          ],
          "name": "stdout"
        }
      ]
    },
    {
      "cell_type": "markdown",
      "metadata": {
        "id": "2FnN-Ntpp878",
        "colab_type": "text"
      },
      "source": [
        "### Gathering Summary\n",
        "- Gathered data from an existing file\n",
        "- Gathered data programatically using requests\n",
        "- Gathered data from Twitter API using Tweepy into JSON format"
      ]
    },
    {
      "cell_type": "markdown",
      "metadata": {
        "id": "Xr6ZBavap88B",
        "colab_type": "text"
      },
      "source": [
        "# Assesing Data"
      ]
    },
    {
      "cell_type": "code",
      "metadata": {
        "id": "Ts5vjW3Up88B",
        "colab_type": "code",
        "colab": {
          "base_uri": "https://localhost:8080/",
          "height": 581
        },
        "outputId": "283a130f-1a64-430a-89ed-80d506d9c1e9"
      },
      "source": [
        "df_archive.head()"
      ],
      "execution_count": 64,
      "outputs": [
        {
          "output_type": "execute_result",
          "data": {
            "text/html": [
              "<div>\n",
              "<style scoped>\n",
              "    .dataframe tbody tr th:only-of-type {\n",
              "        vertical-align: middle;\n",
              "    }\n",
              "\n",
              "    .dataframe tbody tr th {\n",
              "        vertical-align: top;\n",
              "    }\n",
              "\n",
              "    .dataframe thead th {\n",
              "        text-align: right;\n",
              "    }\n",
              "</style>\n",
              "<table border=\"1\" class=\"dataframe\">\n",
              "  <thead>\n",
              "    <tr style=\"text-align: right;\">\n",
              "      <th></th>\n",
              "      <th>tweet_id</th>\n",
              "      <th>in_reply_to_status_id</th>\n",
              "      <th>in_reply_to_user_id</th>\n",
              "      <th>timestamp</th>\n",
              "      <th>source</th>\n",
              "      <th>text</th>\n",
              "      <th>retweeted_status_id</th>\n",
              "      <th>retweeted_status_user_id</th>\n",
              "      <th>retweeted_status_timestamp</th>\n",
              "      <th>expanded_urls</th>\n",
              "      <th>rating_numerator</th>\n",
              "      <th>rating_denominator</th>\n",
              "      <th>name</th>\n",
              "      <th>doggo</th>\n",
              "      <th>floofer</th>\n",
              "      <th>pupper</th>\n",
              "      <th>puppo</th>\n",
              "    </tr>\n",
              "  </thead>\n",
              "  <tbody>\n",
              "    <tr>\n",
              "      <th>0</th>\n",
              "      <td>892420643555336193</td>\n",
              "      <td>NaN</td>\n",
              "      <td>NaN</td>\n",
              "      <td>2017-08-01 16:23:56 +0000</td>\n",
              "      <td>&lt;a href=\"http://twitter.com/download/iphone\" r...</td>\n",
              "      <td>This is Phineas. He's a mystical boy. Only eve...</td>\n",
              "      <td>NaN</td>\n",
              "      <td>NaN</td>\n",
              "      <td>NaN</td>\n",
              "      <td>https://twitter.com/dog_rates/status/892420643...</td>\n",
              "      <td>13</td>\n",
              "      <td>10</td>\n",
              "      <td>Phineas</td>\n",
              "      <td>None</td>\n",
              "      <td>None</td>\n",
              "      <td>None</td>\n",
              "      <td>None</td>\n",
              "    </tr>\n",
              "    <tr>\n",
              "      <th>1</th>\n",
              "      <td>892177421306343426</td>\n",
              "      <td>NaN</td>\n",
              "      <td>NaN</td>\n",
              "      <td>2017-08-01 00:17:27 +0000</td>\n",
              "      <td>&lt;a href=\"http://twitter.com/download/iphone\" r...</td>\n",
              "      <td>This is Tilly. She's just checking pup on you....</td>\n",
              "      <td>NaN</td>\n",
              "      <td>NaN</td>\n",
              "      <td>NaN</td>\n",
              "      <td>https://twitter.com/dog_rates/status/892177421...</td>\n",
              "      <td>13</td>\n",
              "      <td>10</td>\n",
              "      <td>Tilly</td>\n",
              "      <td>None</td>\n",
              "      <td>None</td>\n",
              "      <td>None</td>\n",
              "      <td>None</td>\n",
              "    </tr>\n",
              "    <tr>\n",
              "      <th>2</th>\n",
              "      <td>891815181378084864</td>\n",
              "      <td>NaN</td>\n",
              "      <td>NaN</td>\n",
              "      <td>2017-07-31 00:18:03 +0000</td>\n",
              "      <td>&lt;a href=\"http://twitter.com/download/iphone\" r...</td>\n",
              "      <td>This is Archie. He is a rare Norwegian Pouncin...</td>\n",
              "      <td>NaN</td>\n",
              "      <td>NaN</td>\n",
              "      <td>NaN</td>\n",
              "      <td>https://twitter.com/dog_rates/status/891815181...</td>\n",
              "      <td>12</td>\n",
              "      <td>10</td>\n",
              "      <td>Archie</td>\n",
              "      <td>None</td>\n",
              "      <td>None</td>\n",
              "      <td>None</td>\n",
              "      <td>None</td>\n",
              "    </tr>\n",
              "    <tr>\n",
              "      <th>3</th>\n",
              "      <td>891689557279858688</td>\n",
              "      <td>NaN</td>\n",
              "      <td>NaN</td>\n",
              "      <td>2017-07-30 15:58:51 +0000</td>\n",
              "      <td>&lt;a href=\"http://twitter.com/download/iphone\" r...</td>\n",
              "      <td>This is Darla. She commenced a snooze mid meal...</td>\n",
              "      <td>NaN</td>\n",
              "      <td>NaN</td>\n",
              "      <td>NaN</td>\n",
              "      <td>https://twitter.com/dog_rates/status/891689557...</td>\n",
              "      <td>13</td>\n",
              "      <td>10</td>\n",
              "      <td>Darla</td>\n",
              "      <td>None</td>\n",
              "      <td>None</td>\n",
              "      <td>None</td>\n",
              "      <td>None</td>\n",
              "    </tr>\n",
              "    <tr>\n",
              "      <th>4</th>\n",
              "      <td>891327558926688256</td>\n",
              "      <td>NaN</td>\n",
              "      <td>NaN</td>\n",
              "      <td>2017-07-29 16:00:24 +0000</td>\n",
              "      <td>&lt;a href=\"http://twitter.com/download/iphone\" r...</td>\n",
              "      <td>This is Franklin. He would like you to stop ca...</td>\n",
              "      <td>NaN</td>\n",
              "      <td>NaN</td>\n",
              "      <td>NaN</td>\n",
              "      <td>https://twitter.com/dog_rates/status/891327558...</td>\n",
              "      <td>12</td>\n",
              "      <td>10</td>\n",
              "      <td>Franklin</td>\n",
              "      <td>None</td>\n",
              "      <td>None</td>\n",
              "      <td>None</td>\n",
              "      <td>None</td>\n",
              "    </tr>\n",
              "  </tbody>\n",
              "</table>\n",
              "</div>"
            ],
            "text/plain": [
              "             tweet_id  in_reply_to_status_id  ...  pupper puppo\n",
              "0  892420643555336193                    NaN  ...    None  None\n",
              "1  892177421306343426                    NaN  ...    None  None\n",
              "2  891815181378084864                    NaN  ...    None  None\n",
              "3  891689557279858688                    NaN  ...    None  None\n",
              "4  891327558926688256                    NaN  ...    None  None\n",
              "\n",
              "[5 rows x 17 columns]"
            ]
          },
          "metadata": {
            "tags": []
          },
          "execution_count": 64
        }
      ]
    },
    {
      "cell_type": "code",
      "metadata": {
        "id": "I7L2Oufdp88E",
        "colab_type": "code",
        "colab": {
          "base_uri": "https://localhost:8080/",
          "height": 391
        },
        "outputId": "2c73e6e2-a5ac-477c-c46f-b5e404b975ad"
      },
      "source": [
        "df_archive.info()"
      ],
      "execution_count": 65,
      "outputs": [
        {
          "output_type": "stream",
          "text": [
            "<class 'pandas.core.frame.DataFrame'>\n",
            "RangeIndex: 2356 entries, 0 to 2355\n",
            "Data columns (total 17 columns):\n",
            "tweet_id                      2356 non-null int64\n",
            "in_reply_to_status_id         78 non-null float64\n",
            "in_reply_to_user_id           78 non-null float64\n",
            "timestamp                     2356 non-null object\n",
            "source                        2356 non-null object\n",
            "text                          2356 non-null object\n",
            "retweeted_status_id           181 non-null float64\n",
            "retweeted_status_user_id      181 non-null float64\n",
            "retweeted_status_timestamp    181 non-null object\n",
            "expanded_urls                 2297 non-null object\n",
            "rating_numerator              2356 non-null int64\n",
            "rating_denominator            2356 non-null int64\n",
            "name                          2356 non-null object\n",
            "doggo                         2356 non-null object\n",
            "floofer                       2356 non-null object\n",
            "pupper                        2356 non-null object\n",
            "puppo                         2356 non-null object\n",
            "dtypes: float64(4), int64(3), object(10)\n",
            "memory usage: 313.0+ KB\n"
          ],
          "name": "stdout"
        }
      ]
    },
    {
      "cell_type": "code",
      "metadata": {
        "id": "gsGy6D3zp88H",
        "colab_type": "code",
        "colab": {
          "base_uri": "https://localhost:8080/",
          "height": 317
        },
        "outputId": "95ea2460-86f7-41a0-ff34-f6ee9e3049a8"
      },
      "source": [
        "# descriptive stats\n",
        "df_archive.describe()"
      ],
      "execution_count": 66,
      "outputs": [
        {
          "output_type": "execute_result",
          "data": {
            "text/html": [
              "<div>\n",
              "<style scoped>\n",
              "    .dataframe tbody tr th:only-of-type {\n",
              "        vertical-align: middle;\n",
              "    }\n",
              "\n",
              "    .dataframe tbody tr th {\n",
              "        vertical-align: top;\n",
              "    }\n",
              "\n",
              "    .dataframe thead th {\n",
              "        text-align: right;\n",
              "    }\n",
              "</style>\n",
              "<table border=\"1\" class=\"dataframe\">\n",
              "  <thead>\n",
              "    <tr style=\"text-align: right;\">\n",
              "      <th></th>\n",
              "      <th>tweet_id</th>\n",
              "      <th>in_reply_to_status_id</th>\n",
              "      <th>in_reply_to_user_id</th>\n",
              "      <th>retweeted_status_id</th>\n",
              "      <th>retweeted_status_user_id</th>\n",
              "      <th>rating_numerator</th>\n",
              "      <th>rating_denominator</th>\n",
              "    </tr>\n",
              "  </thead>\n",
              "  <tbody>\n",
              "    <tr>\n",
              "      <th>count</th>\n",
              "      <td>2.356000e+03</td>\n",
              "      <td>7.800000e+01</td>\n",
              "      <td>7.800000e+01</td>\n",
              "      <td>1.810000e+02</td>\n",
              "      <td>1.810000e+02</td>\n",
              "      <td>2356.000000</td>\n",
              "      <td>2356.000000</td>\n",
              "    </tr>\n",
              "    <tr>\n",
              "      <th>mean</th>\n",
              "      <td>7.427716e+17</td>\n",
              "      <td>7.455079e+17</td>\n",
              "      <td>2.014171e+16</td>\n",
              "      <td>7.720400e+17</td>\n",
              "      <td>1.241698e+16</td>\n",
              "      <td>13.126486</td>\n",
              "      <td>10.455433</td>\n",
              "    </tr>\n",
              "    <tr>\n",
              "      <th>std</th>\n",
              "      <td>6.856705e+16</td>\n",
              "      <td>7.582492e+16</td>\n",
              "      <td>1.252797e+17</td>\n",
              "      <td>6.236928e+16</td>\n",
              "      <td>9.599254e+16</td>\n",
              "      <td>45.876648</td>\n",
              "      <td>6.745237</td>\n",
              "    </tr>\n",
              "    <tr>\n",
              "      <th>min</th>\n",
              "      <td>6.660209e+17</td>\n",
              "      <td>6.658147e+17</td>\n",
              "      <td>1.185634e+07</td>\n",
              "      <td>6.661041e+17</td>\n",
              "      <td>7.832140e+05</td>\n",
              "      <td>0.000000</td>\n",
              "      <td>0.000000</td>\n",
              "    </tr>\n",
              "    <tr>\n",
              "      <th>25%</th>\n",
              "      <td>6.783989e+17</td>\n",
              "      <td>6.757419e+17</td>\n",
              "      <td>3.086374e+08</td>\n",
              "      <td>7.186315e+17</td>\n",
              "      <td>4.196984e+09</td>\n",
              "      <td>10.000000</td>\n",
              "      <td>10.000000</td>\n",
              "    </tr>\n",
              "    <tr>\n",
              "      <th>50%</th>\n",
              "      <td>7.196279e+17</td>\n",
              "      <td>7.038708e+17</td>\n",
              "      <td>4.196984e+09</td>\n",
              "      <td>7.804657e+17</td>\n",
              "      <td>4.196984e+09</td>\n",
              "      <td>11.000000</td>\n",
              "      <td>10.000000</td>\n",
              "    </tr>\n",
              "    <tr>\n",
              "      <th>75%</th>\n",
              "      <td>7.993373e+17</td>\n",
              "      <td>8.257804e+17</td>\n",
              "      <td>4.196984e+09</td>\n",
              "      <td>8.203146e+17</td>\n",
              "      <td>4.196984e+09</td>\n",
              "      <td>12.000000</td>\n",
              "      <td>10.000000</td>\n",
              "    </tr>\n",
              "    <tr>\n",
              "      <th>max</th>\n",
              "      <td>8.924206e+17</td>\n",
              "      <td>8.862664e+17</td>\n",
              "      <td>8.405479e+17</td>\n",
              "      <td>8.874740e+17</td>\n",
              "      <td>7.874618e+17</td>\n",
              "      <td>1776.000000</td>\n",
              "      <td>170.000000</td>\n",
              "    </tr>\n",
              "  </tbody>\n",
              "</table>\n",
              "</div>"
            ],
            "text/plain": [
              "           tweet_id  ...  rating_denominator\n",
              "count  2.356000e+03  ...         2356.000000\n",
              "mean   7.427716e+17  ...           10.455433\n",
              "std    6.856705e+16  ...            6.745237\n",
              "min    6.660209e+17  ...            0.000000\n",
              "25%    6.783989e+17  ...           10.000000\n",
              "50%    7.196279e+17  ...           10.000000\n",
              "75%    7.993373e+17  ...           10.000000\n",
              "max    8.924206e+17  ...          170.000000\n",
              "\n",
              "[8 rows x 7 columns]"
            ]
          },
          "metadata": {
            "tags": []
          },
          "execution_count": 66
        }
      ]
    },
    {
      "cell_type": "code",
      "metadata": {
        "id": "qFdhG4vop88J",
        "colab_type": "code",
        "colab": {
          "base_uri": "https://localhost:8080/",
          "height": 34
        },
        "outputId": "6c7f4c64-188b-4075-a16e-1187f6c343b0"
      },
      "source": [
        "unique_count=df_archive.name.nunique()\n",
        "unique_count"
      ],
      "execution_count": 67,
      "outputs": [
        {
          "output_type": "execute_result",
          "data": {
            "text/plain": [
              "957"
            ]
          },
          "metadata": {
            "tags": []
          },
          "execution_count": 67
        }
      ]
    },
    {
      "cell_type": "code",
      "metadata": {
        "id": "fr8lNmMPFb8f",
        "colab_type": "code",
        "colab": {
          "base_uri": "https://localhost:8080/",
          "height": 34
        },
        "outputId": "a990a176-49fa-4c64-f5b2-ea01e096155e"
      },
      "source": [
        "duplicate=df_archive.duplicated().sum()\n",
        "duplicate"
      ],
      "execution_count": 68,
      "outputs": [
        {
          "output_type": "execute_result",
          "data": {
            "text/plain": [
              "0"
            ]
          },
          "metadata": {
            "tags": []
          },
          "execution_count": 68
        }
      ]
    },
    {
      "cell_type": "code",
      "metadata": {
        "id": "RJucq_qap88K",
        "colab_type": "code",
        "colab": {
          "base_uri": "https://localhost:8080/",
          "height": 34
        },
        "outputId": "932a61ce-6dbb-4d45-bfbc-788e32af8cdd"
      },
      "source": [
        "counting_null=df_archive.name.isnull().sum()\n",
        "counting_null"
      ],
      "execution_count": 69,
      "outputs": [
        {
          "output_type": "execute_result",
          "data": {
            "text/plain": [
              "0"
            ]
          },
          "metadata": {
            "tags": []
          },
          "execution_count": 69
        }
      ]
    },
    {
      "cell_type": "code",
      "metadata": {
        "id": "z2ChgOK2p88M",
        "colab_type": "code",
        "colab": {
          "base_uri": "https://localhost:8080/",
          "height": 340
        },
        "outputId": "4ac37290-e0c5-4f81-e71b-f694900fb29c"
      },
      "source": [
        "value_rating_denominator=df_archive.rating_denominator.value_counts()\n",
        "value_rating_denominator\n",
        "# 10 has the highest frequency"
      ],
      "execution_count": 71,
      "outputs": [
        {
          "output_type": "execute_result",
          "data": {
            "text/plain": [
              "10     2333\n",
              "11        3\n",
              "50        3\n",
              "80        2\n",
              "20        2\n",
              "2         1\n",
              "16        1\n",
              "40        1\n",
              "70        1\n",
              "15        1\n",
              "90        1\n",
              "110       1\n",
              "120       1\n",
              "130       1\n",
              "150       1\n",
              "170       1\n",
              "7         1\n",
              "0         1\n",
              "Name: rating_denominator, dtype: int64"
            ]
          },
          "metadata": {
            "tags": []
          },
          "execution_count": 71
        }
      ]
    },
    {
      "cell_type": "code",
      "metadata": {
        "id": "JMCdJFJOp88T",
        "colab_type": "code",
        "colab": {
          "base_uri": "https://localhost:8080/",
          "height": 102
        },
        "outputId": "326f0820-0efc-4cb5-e9fb-8e0a67eb0b8a"
      },
      "source": [
        "num_entries=df_archive.source.value_counts()\n",
        "num_entries"
      ],
      "execution_count": 73,
      "outputs": [
        {
          "output_type": "execute_result",
          "data": {
            "text/plain": [
              "<a href=\"http://twitter.com/download/iphone\" rel=\"nofollow\">Twitter for iPhone</a>     2221\n",
              "<a href=\"http://vine.co\" rel=\"nofollow\">Vine - Make a Scene</a>                          91\n",
              "<a href=\"http://twitter.com\" rel=\"nofollow\">Twitter Web Client</a>                       33\n",
              "<a href=\"https://about.twitter.com/products/tweetdeck\" rel=\"nofollow\">TweetDeck</a>      11\n",
              "Name: source, dtype: int64"
            ]
          },
          "metadata": {
            "tags": []
          },
          "execution_count": 73
        }
      ]
    },
    {
      "cell_type": "code",
      "metadata": {
        "id": "FwWpF6Pep88O",
        "colab_type": "code",
        "colab": {
          "base_uri": "https://localhost:8080/",
          "height": 714
        },
        "outputId": "7d8a7525-4881-43a2-d739-a1d6742ef882"
      },
      "source": [
        "df_tarchive.rating_numerator.value_counts()"
      ],
      "execution_count": 75,
      "outputs": [
        {
          "output_type": "execute_result",
          "data": {
            "text/plain": [
              "12      558\n",
              "11      464\n",
              "10      461\n",
              "13      351\n",
              "9       158\n",
              "8       102\n",
              "7        55\n",
              "14       54\n",
              "5        37\n",
              "6        32\n",
              "3        19\n",
              "4        17\n",
              "1         9\n",
              "2         9\n",
              "420       2\n",
              "0         2\n",
              "15        2\n",
              "75        2\n",
              "80        1\n",
              "20        1\n",
              "24        1\n",
              "26        1\n",
              "44        1\n",
              "50        1\n",
              "60        1\n",
              "165       1\n",
              "84        1\n",
              "88        1\n",
              "144       1\n",
              "182       1\n",
              "143       1\n",
              "666       1\n",
              "960       1\n",
              "1776      1\n",
              "17        1\n",
              "27        1\n",
              "45        1\n",
              "99        1\n",
              "121       1\n",
              "204       1\n",
              "Name: rating_numerator, dtype: int64"
            ]
          },
          "metadata": {
            "tags": []
          },
          "execution_count": 75
        }
      ]
    },
    {
      "cell_type": "code",
      "metadata": {
        "id": "ItC8ufdDp88R",
        "colab_type": "code",
        "colab": {
          "base_uri": "https://localhost:8080/",
          "height": 323
        },
        "outputId": "4b856bc3-db3b-43e2-f8d3-d5ca6f7039d2"
      },
      "source": [
        "counting=df_archive.isnull().sum()\n",
        "counting"
      ],
      "execution_count": 72,
      "outputs": [
        {
          "output_type": "execute_result",
          "data": {
            "text/plain": [
              "tweet_id                         0\n",
              "in_reply_to_status_id         2278\n",
              "in_reply_to_user_id           2278\n",
              "timestamp                        0\n",
              "source                           0\n",
              "text                             0\n",
              "retweeted_status_id           2175\n",
              "retweeted_status_user_id      2175\n",
              "retweeted_status_timestamp    2175\n",
              "expanded_urls                   59\n",
              "rating_numerator                 0\n",
              "rating_denominator               0\n",
              "name                             0\n",
              "doggo                            0\n",
              "floofer                          0\n",
              "pupper                           0\n",
              "puppo                            0\n",
              "dtype: int64"
            ]
          },
          "metadata": {
            "tags": []
          },
          "execution_count": 72
        }
      ]
    },
    {
      "cell_type": "code",
      "metadata": {
        "id": "Cf0AP696p88V",
        "colab_type": "code",
        "colab": {
          "base_uri": "https://localhost:8080/",
          "height": 34
        },
        "outputId": "64b463d0-eba7-4705-8e3c-856007bf9684"
      },
      "source": [
        "#rating_numerator that don't follow pattern\n",
        "rating_numerator_pattern=df_archive.query('rating_numerator > 20').shape[0]\n",
        "rating_numerator_pattern\n"
      ],
      "execution_count": 78,
      "outputs": [
        {
          "output_type": "execute_result",
          "data": {
            "text/plain": [
              "24"
            ]
          },
          "metadata": {
            "tags": []
          },
          "execution_count": 78
        }
      ]
    },
    {
      "cell_type": "code",
      "metadata": {
        "id": "1nvej0Lmp88Z",
        "colab_type": "code",
        "colab": {
          "base_uri": "https://localhost:8080/",
          "height": 34
        },
        "outputId": "32fc1b57-c658-4293-b256-dceebf9ee516"
      },
      "source": [
        "# checking original tweets through retweeted_status_id which would be null\n",
        "null_retweets_id=df_archive[df_archive.retweeted_status_id.isnull()].shape[0]\n",
        "null_retweets_id"
      ],
      "execution_count": 90,
      "outputs": [
        {
          "output_type": "execute_result",
          "data": {
            "text/plain": [
              "2175"
            ]
          },
          "metadata": {
            "tags": []
          },
          "execution_count": 90
        }
      ]
    },
    {
      "cell_type": "code",
      "metadata": {
        "id": "T-exgQQcp88X",
        "colab_type": "code",
        "colab": {
          "base_uri": "https://localhost:8080/",
          "height": 34
        },
        "outputId": "8724e75f-9793-4f48-93a2-ce678823944a"
      },
      "source": [
        "# unusual names \n",
        "\n",
        "unusual_name=df_tarchive[df_tarchive.name.apply(len)<3].shape[0]\n",
        "unusual_name"
      ],
      "execution_count": 86,
      "outputs": [
        {
          "output_type": "execute_result",
          "data": {
            "text/plain": [
              "79"
            ]
          },
          "metadata": {
            "tags": []
          },
          "execution_count": 86
        }
      ]
    },
    {
      "cell_type": "code",
      "metadata": {
        "id": "wATYyPP0p88d",
        "colab_type": "code",
        "colab": {
          "base_uri": "https://localhost:8080/",
          "height": 224
        },
        "outputId": "5669c863-7471-4b13-cb56-95528c0c2e7d"
      },
      "source": [
        "df_img.head()"
      ],
      "execution_count": 92,
      "outputs": [
        {
          "output_type": "execute_result",
          "data": {
            "text/html": [
              "<div>\n",
              "<style scoped>\n",
              "    .dataframe tbody tr th:only-of-type {\n",
              "        vertical-align: middle;\n",
              "    }\n",
              "\n",
              "    .dataframe tbody tr th {\n",
              "        vertical-align: top;\n",
              "    }\n",
              "\n",
              "    .dataframe thead th {\n",
              "        text-align: right;\n",
              "    }\n",
              "</style>\n",
              "<table border=\"1\" class=\"dataframe\">\n",
              "  <thead>\n",
              "    <tr style=\"text-align: right;\">\n",
              "      <th></th>\n",
              "      <th>tweet_id</th>\n",
              "      <th>jpg_url</th>\n",
              "      <th>img_num</th>\n",
              "      <th>p1</th>\n",
              "      <th>p1_conf</th>\n",
              "      <th>p1_dog</th>\n",
              "      <th>p2</th>\n",
              "      <th>p2_conf</th>\n",
              "      <th>p2_dog</th>\n",
              "      <th>p3</th>\n",
              "      <th>p3_conf</th>\n",
              "      <th>p3_dog</th>\n",
              "    </tr>\n",
              "  </thead>\n",
              "  <tbody>\n",
              "    <tr>\n",
              "      <th>0</th>\n",
              "      <td>666020888022790149</td>\n",
              "      <td>https://pbs.twimg.com/media/CT4udn0WwAA0aMy.jpg</td>\n",
              "      <td>1</td>\n",
              "      <td>Welsh_springer_spaniel</td>\n",
              "      <td>0.465074</td>\n",
              "      <td>True</td>\n",
              "      <td>collie</td>\n",
              "      <td>0.156665</td>\n",
              "      <td>True</td>\n",
              "      <td>Shetland_sheepdog</td>\n",
              "      <td>0.061428</td>\n",
              "      <td>True</td>\n",
              "    </tr>\n",
              "    <tr>\n",
              "      <th>1</th>\n",
              "      <td>666029285002620928</td>\n",
              "      <td>https://pbs.twimg.com/media/CT42GRgUYAA5iDo.jpg</td>\n",
              "      <td>1</td>\n",
              "      <td>redbone</td>\n",
              "      <td>0.506826</td>\n",
              "      <td>True</td>\n",
              "      <td>miniature_pinscher</td>\n",
              "      <td>0.074192</td>\n",
              "      <td>True</td>\n",
              "      <td>Rhodesian_ridgeback</td>\n",
              "      <td>0.072010</td>\n",
              "      <td>True</td>\n",
              "    </tr>\n",
              "    <tr>\n",
              "      <th>2</th>\n",
              "      <td>666033412701032449</td>\n",
              "      <td>https://pbs.twimg.com/media/CT4521TWwAEvMyu.jpg</td>\n",
              "      <td>1</td>\n",
              "      <td>German_shepherd</td>\n",
              "      <td>0.596461</td>\n",
              "      <td>True</td>\n",
              "      <td>malinois</td>\n",
              "      <td>0.138584</td>\n",
              "      <td>True</td>\n",
              "      <td>bloodhound</td>\n",
              "      <td>0.116197</td>\n",
              "      <td>True</td>\n",
              "    </tr>\n",
              "    <tr>\n",
              "      <th>3</th>\n",
              "      <td>666044226329800704</td>\n",
              "      <td>https://pbs.twimg.com/media/CT5Dr8HUEAA-lEu.jpg</td>\n",
              "      <td>1</td>\n",
              "      <td>Rhodesian_ridgeback</td>\n",
              "      <td>0.408143</td>\n",
              "      <td>True</td>\n",
              "      <td>redbone</td>\n",
              "      <td>0.360687</td>\n",
              "      <td>True</td>\n",
              "      <td>miniature_pinscher</td>\n",
              "      <td>0.222752</td>\n",
              "      <td>True</td>\n",
              "    </tr>\n",
              "    <tr>\n",
              "      <th>4</th>\n",
              "      <td>666049248165822465</td>\n",
              "      <td>https://pbs.twimg.com/media/CT5IQmsXIAAKY4A.jpg</td>\n",
              "      <td>1</td>\n",
              "      <td>miniature_pinscher</td>\n",
              "      <td>0.560311</td>\n",
              "      <td>True</td>\n",
              "      <td>Rottweiler</td>\n",
              "      <td>0.243682</td>\n",
              "      <td>True</td>\n",
              "      <td>Doberman</td>\n",
              "      <td>0.154629</td>\n",
              "      <td>True</td>\n",
              "    </tr>\n",
              "  </tbody>\n",
              "</table>\n",
              "</div>"
            ],
            "text/plain": [
              "             tweet_id  ... p3_dog\n",
              "0  666020888022790149  ...   True\n",
              "1  666029285002620928  ...   True\n",
              "2  666033412701032449  ...   True\n",
              "3  666044226329800704  ...   True\n",
              "4  666049248165822465  ...   True\n",
              "\n",
              "[5 rows x 12 columns]"
            ]
          },
          "metadata": {
            "tags": []
          },
          "execution_count": 92
        }
      ]
    },
    {
      "cell_type": "code",
      "metadata": {
        "id": "pjt2_pa5p88h",
        "colab_type": "code",
        "colab": {
          "base_uri": "https://localhost:8080/",
          "height": 306
        },
        "outputId": "391638ac-602e-4e16-e907-f65213c58726"
      },
      "source": [
        "df_img.info()"
      ],
      "execution_count": 95,
      "outputs": [
        {
          "output_type": "stream",
          "text": [
            "<class 'pandas.core.frame.DataFrame'>\n",
            "RangeIndex: 2075 entries, 0 to 2074\n",
            "Data columns (total 12 columns):\n",
            "tweet_id    2075 non-null int64\n",
            "jpg_url     2075 non-null object\n",
            "img_num     2075 non-null int64\n",
            "p1          2075 non-null object\n",
            "p1_conf     2075 non-null float64\n",
            "p1_dog      2075 non-null bool\n",
            "p2          2075 non-null object\n",
            "p2_conf     2075 non-null float64\n",
            "p2_dog      2075 non-null bool\n",
            "p3          2075 non-null object\n",
            "p3_conf     2075 non-null float64\n",
            "p3_dog      2075 non-null bool\n",
            "dtypes: bool(3), float64(3), int64(2), object(4)\n",
            "memory usage: 152.1+ KB\n"
          ],
          "name": "stdout"
        }
      ]
    },
    {
      "cell_type": "code",
      "metadata": {
        "id": "QLJFCfaTp88f",
        "colab_type": "code",
        "colab": {
          "base_uri": "https://localhost:8080/",
          "height": 297
        },
        "outputId": "a1653afe-5d32-4a16-fe81-d60fec2f70e1"
      },
      "source": [
        "df_img.describe()"
      ],
      "execution_count": 96,
      "outputs": [
        {
          "output_type": "execute_result",
          "data": {
            "text/html": [
              "<div>\n",
              "<style scoped>\n",
              "    .dataframe tbody tr th:only-of-type {\n",
              "        vertical-align: middle;\n",
              "    }\n",
              "\n",
              "    .dataframe tbody tr th {\n",
              "        vertical-align: top;\n",
              "    }\n",
              "\n",
              "    .dataframe thead th {\n",
              "        text-align: right;\n",
              "    }\n",
              "</style>\n",
              "<table border=\"1\" class=\"dataframe\">\n",
              "  <thead>\n",
              "    <tr style=\"text-align: right;\">\n",
              "      <th></th>\n",
              "      <th>tweet_id</th>\n",
              "      <th>img_num</th>\n",
              "      <th>p1_conf</th>\n",
              "      <th>p2_conf</th>\n",
              "      <th>p3_conf</th>\n",
              "    </tr>\n",
              "  </thead>\n",
              "  <tbody>\n",
              "    <tr>\n",
              "      <th>count</th>\n",
              "      <td>2.075000e+03</td>\n",
              "      <td>2075.000000</td>\n",
              "      <td>2075.000000</td>\n",
              "      <td>2.075000e+03</td>\n",
              "      <td>2.075000e+03</td>\n",
              "    </tr>\n",
              "    <tr>\n",
              "      <th>mean</th>\n",
              "      <td>7.384514e+17</td>\n",
              "      <td>1.203855</td>\n",
              "      <td>0.594548</td>\n",
              "      <td>1.345886e-01</td>\n",
              "      <td>6.032417e-02</td>\n",
              "    </tr>\n",
              "    <tr>\n",
              "      <th>std</th>\n",
              "      <td>6.785203e+16</td>\n",
              "      <td>0.561875</td>\n",
              "      <td>0.271174</td>\n",
              "      <td>1.006657e-01</td>\n",
              "      <td>5.090593e-02</td>\n",
              "    </tr>\n",
              "    <tr>\n",
              "      <th>min</th>\n",
              "      <td>6.660209e+17</td>\n",
              "      <td>1.000000</td>\n",
              "      <td>0.044333</td>\n",
              "      <td>1.011300e-08</td>\n",
              "      <td>1.740170e-10</td>\n",
              "    </tr>\n",
              "    <tr>\n",
              "      <th>25%</th>\n",
              "      <td>6.764835e+17</td>\n",
              "      <td>1.000000</td>\n",
              "      <td>0.364412</td>\n",
              "      <td>5.388625e-02</td>\n",
              "      <td>1.622240e-02</td>\n",
              "    </tr>\n",
              "    <tr>\n",
              "      <th>50%</th>\n",
              "      <td>7.119988e+17</td>\n",
              "      <td>1.000000</td>\n",
              "      <td>0.588230</td>\n",
              "      <td>1.181810e-01</td>\n",
              "      <td>4.944380e-02</td>\n",
              "    </tr>\n",
              "    <tr>\n",
              "      <th>75%</th>\n",
              "      <td>7.932034e+17</td>\n",
              "      <td>1.000000</td>\n",
              "      <td>0.843855</td>\n",
              "      <td>1.955655e-01</td>\n",
              "      <td>9.180755e-02</td>\n",
              "    </tr>\n",
              "    <tr>\n",
              "      <th>max</th>\n",
              "      <td>8.924206e+17</td>\n",
              "      <td>4.000000</td>\n",
              "      <td>1.000000</td>\n",
              "      <td>4.880140e-01</td>\n",
              "      <td>2.734190e-01</td>\n",
              "    </tr>\n",
              "  </tbody>\n",
              "</table>\n",
              "</div>"
            ],
            "text/plain": [
              "           tweet_id      img_num      p1_conf       p2_conf       p3_conf\n",
              "count  2.075000e+03  2075.000000  2075.000000  2.075000e+03  2.075000e+03\n",
              "mean   7.384514e+17     1.203855     0.594548  1.345886e-01  6.032417e-02\n",
              "std    6.785203e+16     0.561875     0.271174  1.006657e-01  5.090593e-02\n",
              "min    6.660209e+17     1.000000     0.044333  1.011300e-08  1.740170e-10\n",
              "25%    6.764835e+17     1.000000     0.364412  5.388625e-02  1.622240e-02\n",
              "50%    7.119988e+17     1.000000     0.588230  1.181810e-01  4.944380e-02\n",
              "75%    7.932034e+17     1.000000     0.843855  1.955655e-01  9.180755e-02\n",
              "max    8.924206e+17     4.000000     1.000000  4.880140e-01  2.734190e-01"
            ]
          },
          "metadata": {
            "tags": []
          },
          "execution_count": 96
        }
      ]
    },
    {
      "cell_type": "code",
      "metadata": {
        "id": "B7_SDo_7p88j",
        "colab_type": "code",
        "colab": {},
        "outputId": "9600e3a3-19df-4398-cc26-614971c65d04"
      },
      "source": [
        "df_img.img_num.value_counts()"
      ],
      "execution_count": 0,
      "outputs": [
        {
          "output_type": "execute_result",
          "data": {
            "text/plain": [
              "1    1780\n",
              "2     198\n",
              "3      66\n",
              "4      31\n",
              "Name: img_num, dtype: int64"
            ]
          },
          "metadata": {
            "tags": []
          },
          "execution_count": 246
        }
      ]
    },
    {
      "cell_type": "code",
      "metadata": {
        "id": "lIn2UoQjp88l",
        "colab_type": "code",
        "colab": {
          "base_uri": "https://localhost:8080/",
          "height": 119
        },
        "outputId": "48aa47cb-05f3-490e-e082-4d2565f56af9"
      },
      "source": [
        "df_img.jpg_url.unique()"
      ],
      "execution_count": 98,
      "outputs": [
        {
          "output_type": "execute_result",
          "data": {
            "text/plain": [
              "array(['https://pbs.twimg.com/media/CT4udn0WwAA0aMy.jpg',\n",
              "       'https://pbs.twimg.com/media/CT42GRgUYAA5iDo.jpg',\n",
              "       'https://pbs.twimg.com/media/CT4521TWwAEvMyu.jpg', ...,\n",
              "       'https://pbs.twimg.com/media/DGBdLU1WsAANxJ9.jpg',\n",
              "       'https://pbs.twimg.com/media/DGGmoV4XsAAUL6n.jpg',\n",
              "       'https://pbs.twimg.com/media/DGKD1-bXoAAIAUK.jpg'], dtype=object)"
            ]
          },
          "metadata": {
            "tags": []
          },
          "execution_count": 98
        }
      ]
    },
    {
      "cell_type": "code",
      "metadata": {
        "id": "hF_y9RrQp88s",
        "colab_type": "code",
        "colab": {
          "base_uri": "https://localhost:8080/",
          "height": 34
        },
        "outputId": "bf82f36a-455a-4640-f1b6-69ad9cb060df"
      },
      "source": [
        "df_img.jpg_url.duplicated().sum()"
      ],
      "execution_count": 100,
      "outputs": [
        {
          "output_type": "execute_result",
          "data": {
            "text/plain": [
              "66"
            ]
          },
          "metadata": {
            "tags": []
          },
          "execution_count": 100
        }
      ]
    },
    {
      "cell_type": "code",
      "metadata": {
        "id": "utAmciF3p88n",
        "colab_type": "code",
        "colab": {
          "base_uri": "https://localhost:8080/",
          "height": 238
        },
        "outputId": "7f863977-d0b0-4017-fc5d-74a2b3e111a5"
      },
      "source": [
        "df_img.isnull().sum()"
      ],
      "execution_count": 101,
      "outputs": [
        {
          "output_type": "execute_result",
          "data": {
            "text/plain": [
              "tweet_id    0\n",
              "jpg_url     0\n",
              "img_num     0\n",
              "p1          0\n",
              "p1_conf     0\n",
              "p1_dog      0\n",
              "p2          0\n",
              "p2_conf     0\n",
              "p2_dog      0\n",
              "p3          0\n",
              "p3_conf     0\n",
              "p3_dog      0\n",
              "dtype: int64"
            ]
          },
          "metadata": {
            "tags": []
          },
          "execution_count": 101
        }
      ]
    },
    {
      "cell_type": "code",
      "metadata": {
        "id": "L7Fb-Krup88q",
        "colab_type": "code",
        "colab": {},
        "outputId": "65b94549-3ad7-4b5f-89d1-2291d4116777"
      },
      "source": [
        "# checkinng rows just to make sure if we have equal rows to df_archive\n",
        "df_images.shape"
      ],
      "execution_count": 0,
      "outputs": [
        {
          "output_type": "execute_result",
          "data": {
            "text/plain": [
              "(2075, 12)"
            ]
          },
          "metadata": {
            "tags": []
          },
          "execution_count": 249
        }
      ]
    },
    {
      "cell_type": "code",
      "metadata": {
        "id": "6FHKDjO4p88u",
        "colab_type": "code",
        "colab": {
          "base_uri": "https://localhost:8080/",
          "height": 34
        },
        "outputId": "30e55270-5e49-40b1-ca4b-6374f35b4e8e"
      },
      "source": [
        "df_images['tweet_id'].duplicated().sum()"
      ],
      "execution_count": 103,
      "outputs": [
        {
          "output_type": "execute_result",
          "data": {
            "text/plain": [
              "0"
            ]
          },
          "metadata": {
            "tags": []
          },
          "execution_count": 103
        }
      ]
    },
    {
      "cell_type": "code",
      "metadata": {
        "id": "iCwkjKPsp88x",
        "colab_type": "code",
        "colab": {
          "base_uri": "https://localhost:8080/",
          "height": 204
        },
        "outputId": "1feba87a-bf38-4116-e5b2-8c2ee83560ac"
      },
      "source": [
        "df_tweets.info()"
      ],
      "execution_count": 105,
      "outputs": [
        {
          "output_type": "stream",
          "text": [
            "<class 'pandas.core.frame.DataFrame'>\n",
            "RangeIndex: 2331 entries, 0 to 2330\n",
            "Data columns (total 6 columns):\n",
            "tweet_id           2331 non-null int64\n",
            "favorites          2331 non-null int64\n",
            "retweets           2331 non-null int64\n",
            "user_followers     2331 non-null int64\n",
            "user_favourites    2331 non-null int64\n",
            "date_time          2331 non-null datetime64[ns, UTC]\n",
            "dtypes: datetime64[ns, UTC](1), int64(5)\n",
            "memory usage: 109.4 KB\n"
          ],
          "name": "stdout"
        }
      ]
    },
    {
      "cell_type": "code",
      "metadata": {
        "id": "ZmT0sBKBp881",
        "colab_type": "code",
        "colab": {
          "base_uri": "https://localhost:8080/",
          "height": 136
        },
        "outputId": "b18d3e1b-1afa-47a4-af93-a07b5cd765f2"
      },
      "source": [
        "df_tweets.isnull().sum()"
      ],
      "execution_count": 106,
      "outputs": [
        {
          "output_type": "execute_result",
          "data": {
            "text/plain": [
              "tweet_id           0\n",
              "favorites          0\n",
              "retweets           0\n",
              "user_followers     0\n",
              "user_favourites    0\n",
              "date_time          0\n",
              "dtype: int64"
            ]
          },
          "metadata": {
            "tags": []
          },
          "execution_count": 106
        }
      ]
    },
    {
      "cell_type": "markdown",
      "metadata": {
        "id": "x0PWSgQap882",
        "colab_type": "text"
      },
      "source": [
        "#### Quality Issues:-\n",
        "- df_archive\n",
        "    1. Drop unnecessary columns from df_tarchive_copy related to retweet\n",
        "    2. Removing columns and rows that we don't need. Need only original tweets that have images\n",
        "    3. Change datatype of TimeStamp into DateTime.\n",
        "    4. Create 1 column for image prediction and 1 column for confidence level.\n",
        "    5. Removing unnecessary columns from final dataset \n",
        "    6. Sources are difficult to read. Clean the content of source column.\n",
        "    7. Replacing Null to NaN in all column\n",
        "    8. Name that are not valid names.\n",
        "    9. Numerator and Denominator column has invalid values. \n",
        "    \n",
        "- df_images\n",
        "    10. Missing values from image dataset \n",
        "    11. Drop date_time from df_tweets\n",
        "    12. Drop unnecessary columns\n",
        "    13. Some tweets_ids have the same jpg_url. There are 66 duplicated jpg_url\n",
        "    14. Some tweets are have 2 different tweet_id one redirect to the other.\n",
        "    15. Drop unnecessary columns\n",
        "        \n",
        "    \n",
        "- df_tweet\n",
        "    \n",
        "\n",
        "#### Tidiness Issues:- \n",
        "    16. Merge columns into one\n",
        "    17. Tables should be part of one dataframe"
      ]
    },
    {
      "cell_type": "markdown",
      "metadata": {
        "id": "eHvtu3wRp883",
        "colab_type": "text"
      },
      "source": [
        "## Cleaning data:"
      ]
    },
    {
      "cell_type": "code",
      "metadata": {
        "id": "XW4qJfNqp883",
        "colab_type": "code",
        "colab": {}
      },
      "source": [
        "# make copy of our original data\n",
        "df_archive_copy = df_archive.copy()\n",
        "df_img_copy = df_img.copy()\n",
        "df_tweets_copy = df_tweets.copy()"
      ],
      "execution_count": 0,
      "outputs": []
    },
    {
      "cell_type": "code",
      "metadata": {
        "id": "0Ol3MB5op886",
        "colab_type": "code",
        "colab": {
          "base_uri": "https://localhost:8080/",
          "height": 185
        },
        "outputId": "a0bc7cd9-dd49-436e-efd1-9150c925f33d"
      },
      "source": [
        "df_archive[df_archive.tweet_id == 666049248165822465]"
      ],
      "execution_count": 112,
      "outputs": [
        {
          "output_type": "execute_result",
          "data": {
            "text/html": [
              "<div>\n",
              "<style scoped>\n",
              "    .dataframe tbody tr th:only-of-type {\n",
              "        vertical-align: middle;\n",
              "    }\n",
              "\n",
              "    .dataframe tbody tr th {\n",
              "        vertical-align: top;\n",
              "    }\n",
              "\n",
              "    .dataframe thead th {\n",
              "        text-align: right;\n",
              "    }\n",
              "</style>\n",
              "<table border=\"1\" class=\"dataframe\">\n",
              "  <thead>\n",
              "    <tr style=\"text-align: right;\">\n",
              "      <th></th>\n",
              "      <th>tweet_id</th>\n",
              "      <th>in_reply_to_status_id</th>\n",
              "      <th>in_reply_to_user_id</th>\n",
              "      <th>timestamp</th>\n",
              "      <th>source</th>\n",
              "      <th>text</th>\n",
              "      <th>retweeted_status_id</th>\n",
              "      <th>retweeted_status_user_id</th>\n",
              "      <th>retweeted_status_timestamp</th>\n",
              "      <th>expanded_urls</th>\n",
              "      <th>rating_numerator</th>\n",
              "      <th>rating_denominator</th>\n",
              "      <th>name</th>\n",
              "      <th>doggo</th>\n",
              "      <th>floofer</th>\n",
              "      <th>pupper</th>\n",
              "      <th>puppo</th>\n",
              "    </tr>\n",
              "  </thead>\n",
              "  <tbody>\n",
              "    <tr>\n",
              "      <th>2351</th>\n",
              "      <td>666049248165822465</td>\n",
              "      <td>NaN</td>\n",
              "      <td>NaN</td>\n",
              "      <td>2015-11-16 00:24:50 +0000</td>\n",
              "      <td>&lt;a href=\"http://twitter.com/download/iphone\" r...</td>\n",
              "      <td>Here we have a 1949 1st generation vulpix. Enj...</td>\n",
              "      <td>NaN</td>\n",
              "      <td>NaN</td>\n",
              "      <td>NaN</td>\n",
              "      <td>https://twitter.com/dog_rates/status/666049248...</td>\n",
              "      <td>5</td>\n",
              "      <td>10</td>\n",
              "      <td>None</td>\n",
              "      <td>None</td>\n",
              "      <td>None</td>\n",
              "      <td>None</td>\n",
              "      <td>None</td>\n",
              "    </tr>\n",
              "  </tbody>\n",
              "</table>\n",
              "</div>"
            ],
            "text/plain": [
              "                tweet_id  in_reply_to_status_id  ...  pupper puppo\n",
              "2351  666049248165822465                    NaN  ...    None  None\n",
              "\n",
              "[1 rows x 17 columns]"
            ]
          },
          "metadata": {
            "tags": []
          },
          "execution_count": 112
        }
      ]
    },
    {
      "cell_type": "markdown",
      "metadata": {
        "id": "ZGLCt9MTp888",
        "colab_type": "text"
      },
      "source": [
        "### 16. All tables should be part of one dataset"
      ]
    },
    {
      "cell_type": "code",
      "metadata": {
        "id": "p9AOlmM3p889",
        "colab_type": "code",
        "colab": {}
      },
      "source": [
        "df_merged = pd.merge(left=df_archive_copy,\n",
        "                        right=df_tweets_copy,\n",
        "                        left_on='tweet_id', right_on='tweet_id',\n",
        "                        how='inner')"
      ],
      "execution_count": 0,
      "outputs": []
    },
    {
      "cell_type": "code",
      "metadata": {
        "id": "hkSyCJUUp88_",
        "colab_type": "code",
        "colab": {}
      },
      "source": [
        "df_merged = df_merged.merge(df_img_copy, on = 'tweet_id', how = 'inner')"
      ],
      "execution_count": 0,
      "outputs": []
    },
    {
      "cell_type": "code",
      "metadata": {
        "id": "XisK7Hl3p89D",
        "colab_type": "code",
        "colab": {
          "base_uri": "https://localhost:8080/",
          "height": 34
        },
        "outputId": "4a5e50d7-65e6-41d0-a441-a786b0d93fda"
      },
      "source": [
        "df_merged.shape"
      ],
      "execution_count": 127,
      "outputs": [
        {
          "output_type": "execute_result",
          "data": {
            "text/plain": [
              "(2059, 33)"
            ]
          },
          "metadata": {
            "tags": []
          },
          "execution_count": 127
        }
      ]
    },
    {
      "cell_type": "code",
      "metadata": {
        "id": "wL_noxpRp89A",
        "colab_type": "code",
        "colab": {
          "base_uri": "https://localhost:8080/",
          "height": 663
        },
        "outputId": "1e5db1ea-8d58-448e-c50f-9ea225403c70"
      },
      "source": [
        "df_merged.info()"
      ],
      "execution_count": 128,
      "outputs": [
        {
          "output_type": "stream",
          "text": [
            "<class 'pandas.core.frame.DataFrame'>\n",
            "Int64Index: 2059 entries, 0 to 2058\n",
            "Data columns (total 33 columns):\n",
            "tweet_id                      2059 non-null int64\n",
            "in_reply_to_status_id         23 non-null float64\n",
            "in_reply_to_user_id           23 non-null float64\n",
            "timestamp                     2059 non-null object\n",
            "source                        2059 non-null object\n",
            "text                          2059 non-null object\n",
            "retweeted_status_id           72 non-null float64\n",
            "retweeted_status_user_id      72 non-null float64\n",
            "retweeted_status_timestamp    72 non-null object\n",
            "expanded_urls                 2059 non-null object\n",
            "rating_numerator              2059 non-null int64\n",
            "rating_denominator            2059 non-null int64\n",
            "name                          2059 non-null object\n",
            "doggo                         2059 non-null object\n",
            "floofer                       2059 non-null object\n",
            "pupper                        2059 non-null object\n",
            "puppo                         2059 non-null object\n",
            "favorites                     2059 non-null int64\n",
            "retweets                      2059 non-null int64\n",
            "user_followers                2059 non-null int64\n",
            "user_favourites               2059 non-null int64\n",
            "date_time                     2059 non-null datetime64[ns, UTC]\n",
            "jpg_url                       2059 non-null object\n",
            "img_num                       2059 non-null int64\n",
            "p1                            2059 non-null object\n",
            "p1_conf                       2059 non-null float64\n",
            "p1_dog                        2059 non-null bool\n",
            "p2                            2059 non-null object\n",
            "p2_conf                       2059 non-null float64\n",
            "p2_dog                        2059 non-null bool\n",
            "p3                            2059 non-null object\n",
            "p3_conf                       2059 non-null float64\n",
            "p3_dog                        2059 non-null bool\n",
            "dtypes: bool(3), datetime64[ns, UTC](1), float64(7), int64(8), object(14)\n",
            "memory usage: 504.7+ KB\n"
          ],
          "name": "stdout"
        }
      ]
    },
    {
      "cell_type": "markdown",
      "metadata": {
        "id": "JlNf2_U0p89G",
        "colab_type": "text"
      },
      "source": [
        "### 1. Merge the columns\n",
        "    "
      ]
    },
    {
      "cell_type": "code",
      "metadata": {
        "id": "kPclJeA8p89H",
        "colab_type": "code",
        "colab": {}
      },
      "source": [
        "value_vars =['doggo','floofer','pupper','puppo']\n",
        "id_vars = [x for x in df_merged.columns.tolist() if x not in value_vars]\n",
        "df_merged = pd.melt(df_merged, \n",
        "                           id_vars = id_vars,\n",
        "                            value_vars = value_vars,\n",
        "                            var_name='dogs', value_name='dogs_stage'\n",
        "                            )"
      ],
      "execution_count": 0,
      "outputs": []
    },
    {
      "cell_type": "code",
      "metadata": {
        "id": "nsxBxMV_p89J",
        "colab_type": "code",
        "colab": {}
      },
      "source": [
        "# Dropping unnecssary column 'dogs' from df_archive_copy\n",
        "df_merged.drop('dogs', axis=1, inplace=True)"
      ],
      "execution_count": 0,
      "outputs": []
    },
    {
      "cell_type": "code",
      "metadata": {
        "id": "xoubGsFap89N",
        "colab_type": "code",
        "colab": {
          "base_uri": "https://localhost:8080/",
          "height": 612
        },
        "outputId": "9adbe0ef-bf39-4fa4-cb6a-1876617cbe68"
      },
      "source": [
        "# Testing that we have all the data\n",
        "df_merged.info()"
      ],
      "execution_count": 131,
      "outputs": [
        {
          "output_type": "stream",
          "text": [
            "<class 'pandas.core.frame.DataFrame'>\n",
            "RangeIndex: 8236 entries, 0 to 8235\n",
            "Data columns (total 30 columns):\n",
            "tweet_id                      8236 non-null int64\n",
            "in_reply_to_status_id         92 non-null float64\n",
            "in_reply_to_user_id           92 non-null float64\n",
            "timestamp                     8236 non-null object\n",
            "source                        8236 non-null object\n",
            "text                          8236 non-null object\n",
            "retweeted_status_id           288 non-null float64\n",
            "retweeted_status_user_id      288 non-null float64\n",
            "retweeted_status_timestamp    288 non-null object\n",
            "expanded_urls                 8236 non-null object\n",
            "rating_numerator              8236 non-null int64\n",
            "rating_denominator            8236 non-null int64\n",
            "name                          8236 non-null object\n",
            "favorites                     8236 non-null int64\n",
            "retweets                      8236 non-null int64\n",
            "user_followers                8236 non-null int64\n",
            "user_favourites               8236 non-null int64\n",
            "date_time                     8236 non-null datetime64[ns, UTC]\n",
            "jpg_url                       8236 non-null object\n",
            "img_num                       8236 non-null int64\n",
            "p1                            8236 non-null object\n",
            "p1_conf                       8236 non-null float64\n",
            "p1_dog                        8236 non-null bool\n",
            "p2                            8236 non-null object\n",
            "p2_conf                       8236 non-null float64\n",
            "p2_dog                        8236 non-null bool\n",
            "p3                            8236 non-null object\n",
            "p3_conf                       8236 non-null float64\n",
            "p3_dog                        8236 non-null bool\n",
            "dogs_stage                    8236 non-null object\n",
            "dtypes: bool(3), datetime64[ns, UTC](1), float64(7), int64(8), object(11)\n",
            "memory usage: 1.7+ MB\n"
          ],
          "name": "stdout"
        }
      ]
    },
    {
      "cell_type": "code",
      "metadata": {
        "id": "9AnP6303p89K",
        "colab_type": "code",
        "colab": {}
      },
      "source": [
        "#Sorting by dogs_stage we can also use groupbythen drop duplicated based on tweet_id except the last occurrence\n",
        "df_merged = df_merged.sort_values('dogs_stage').drop_duplicates(subset='tweet_id', keep='last')"
      ],
      "execution_count": 0,
      "outputs": []
    },
    {
      "cell_type": "code",
      "metadata": {
        "id": "2Rv4i2lkp89O",
        "colab_type": "code",
        "colab": {
          "base_uri": "https://localhost:8080/",
          "height": 119
        },
        "outputId": "27040b90-025d-487b-b3ae-fac3ac2f24e5"
      },
      "source": [
        "#REcheck\n",
        "df_merged['dogs_stage'].value_counts()"
      ],
      "execution_count": 133,
      "outputs": [
        {
          "output_type": "execute_result",
          "data": {
            "text/plain": [
              "None       1741\n",
              "pupper      221\n",
              "doggo        65\n",
              "puppo        24\n",
              "floofer       8\n",
              "Name: dogs_stage, dtype: int64"
            ]
          },
          "metadata": {
            "tags": []
          },
          "execution_count": 133
        }
      ]
    },
    {
      "cell_type": "code",
      "metadata": {
        "id": "4kxzEkcup89Q",
        "colab_type": "code",
        "colab": {
          "base_uri": "https://localhost:8080/",
          "height": 51
        },
        "outputId": "ec1eca75-0f04-446b-d941-9c218050841f"
      },
      "source": [
        "df_merged[df_merged.tweet_id == 666049248165822465]['text']"
      ],
      "execution_count": 136,
      "outputs": [
        {
          "output_type": "execute_result",
          "data": {
            "text/plain": [
              "2054    Here we have a 1949 1st generation vulpix. Enj...\n",
              "Name: text, dtype: object"
            ]
          },
          "metadata": {
            "tags": []
          },
          "execution_count": 136
        }
      ]
    },
    {
      "cell_type": "code",
      "metadata": {
        "id": "lP-q3GV4p89S",
        "colab_type": "code",
        "colab": {
          "base_uri": "https://localhost:8080/",
          "height": 51
        },
        "outputId": "081ed49b-ab1d-4481-a51b-f7267d17b9a7"
      },
      "source": [
        "df_merged[df_merged.tweet_id == 666049248165822465]['dogs_stage']"
      ],
      "execution_count": 137,
      "outputs": [
        {
          "output_type": "execute_result",
          "data": {
            "text/plain": [
              "2054    None\n",
              "Name: dogs_stage, dtype: object"
            ]
          },
          "metadata": {
            "tags": []
          },
          "execution_count": 137
        }
      ]
    },
    {
      "cell_type": "markdown",
      "metadata": {
        "id": "xr0ESJOxp89T",
        "colab_type": "text"
      },
      "source": [
        "### 2. Removing columns and rows that we don't need. Need only original tweets that have images."
      ]
    },
    {
      "cell_type": "code",
      "metadata": {
        "id": "0xSlgkM1p89U",
        "colab_type": "code",
        "colab": {}
      },
      "source": [
        "df_merged = df_merged[df_merged.retweeted_status_id.isnull()]"
      ],
      "execution_count": 0,
      "outputs": []
    },
    {
      "cell_type": "code",
      "metadata": {
        "id": "MER3M1PIp89V",
        "colab_type": "code",
        "colab": {}
      },
      "source": [
        "df_merged = df_merged.drop_duplicates()"
      ],
      "execution_count": 0,
      "outputs": []
    },
    {
      "cell_type": "code",
      "metadata": {
        "id": "oQme3lUip89Y",
        "colab_type": "code",
        "colab": {
          "base_uri": "https://localhost:8080/",
          "height": 612
        },
        "outputId": "3c727b1f-433d-4dc7-b369-8616dacf4534"
      },
      "source": [
        "# Testing that we have all the data we need\n",
        "df_merged.info()"
      ],
      "execution_count": 140,
      "outputs": [
        {
          "output_type": "stream",
          "text": [
            "<class 'pandas.core.frame.DataFrame'>\n",
            "Int64Index: 1987 entries, 1982 to 7053\n",
            "Data columns (total 30 columns):\n",
            "tweet_id                      1987 non-null int64\n",
            "in_reply_to_status_id         23 non-null float64\n",
            "in_reply_to_user_id           23 non-null float64\n",
            "timestamp                     1987 non-null object\n",
            "source                        1987 non-null object\n",
            "text                          1987 non-null object\n",
            "retweeted_status_id           0 non-null float64\n",
            "retweeted_status_user_id      0 non-null float64\n",
            "retweeted_status_timestamp    0 non-null object\n",
            "expanded_urls                 1987 non-null object\n",
            "rating_numerator              1987 non-null int64\n",
            "rating_denominator            1987 non-null int64\n",
            "name                          1987 non-null object\n",
            "favorites                     1987 non-null int64\n",
            "retweets                      1987 non-null int64\n",
            "user_followers                1987 non-null int64\n",
            "user_favourites               1987 non-null int64\n",
            "date_time                     1987 non-null datetime64[ns, UTC]\n",
            "jpg_url                       1987 non-null object\n",
            "img_num                       1987 non-null int64\n",
            "p1                            1987 non-null object\n",
            "p1_conf                       1987 non-null float64\n",
            "p1_dog                        1987 non-null bool\n",
            "p2                            1987 non-null object\n",
            "p2_conf                       1987 non-null float64\n",
            "p2_dog                        1987 non-null bool\n",
            "p3                            1987 non-null object\n",
            "p3_conf                       1987 non-null float64\n",
            "p3_dog                        1987 non-null bool\n",
            "dogs_stage                    1987 non-null object\n",
            "dtypes: bool(3), datetime64[ns, UTC](1), float64(7), int64(8), object(11)\n",
            "memory usage: 440.5+ KB\n"
          ],
          "name": "stdout"
        }
      ]
    },
    {
      "cell_type": "markdown",
      "metadata": {
        "id": "dA6lMw-gp89Z",
        "colab_type": "text"
      },
      "source": [
        "### 3. Drop unnecessary columns from df_archive_copy related to retweet"
      ]
    },
    {
      "cell_type": "code",
      "metadata": {
        "id": "2YoaRpRPp89a",
        "colab_type": "code",
        "colab": {}
      },
      "source": [
        "df_merged.drop(['retweeted_status_id',\n",
        "                     'retweeted_status_user_id',\n",
        "                       'retweeted_status_timestamp'],\n",
        "                     axis = 1, inplace = True)"
      ],
      "execution_count": 0,
      "outputs": []
    },
    {
      "cell_type": "code",
      "metadata": {
        "id": "R0nsy67Vp89b",
        "colab_type": "code",
        "colab": {},
        "outputId": "fc19da71-afaf-42bf-d688-0159c33342fd"
      },
      "source": [
        "# checking if we have deleted the above columns\n",
        "df_merged.info()"
      ],
      "execution_count": 0,
      "outputs": [
        {
          "output_type": "stream",
          "text": [
            "<class 'pandas.core.frame.DataFrame'>\n",
            "Int64Index: 1987 entries, 1982 to 7053\n",
            "Data columns (total 27 columns):\n",
            "tweet_id                 1987 non-null int64\n",
            "in_reply_to_status_id    23 non-null float64\n",
            "in_reply_to_user_id      23 non-null float64\n",
            "timestamp                1987 non-null object\n",
            "source                   1987 non-null object\n",
            "text                     1987 non-null object\n",
            "expanded_urls            1987 non-null object\n",
            "rating_numerator         1987 non-null int64\n",
            "rating_denominator       1987 non-null int64\n",
            "name                     1987 non-null object\n",
            "favorites                1987 non-null int64\n",
            "retweets                 1987 non-null int64\n",
            "user_followers           1987 non-null int64\n",
            "user_favourites          1987 non-null int64\n",
            "date_time                1987 non-null object\n",
            "jpg_url                  1987 non-null object\n",
            "img_num                  1987 non-null int64\n",
            "p1                       1987 non-null object\n",
            "p1_conf                  1987 non-null float64\n",
            "p1_dog                   1987 non-null bool\n",
            "p2                       1987 non-null object\n",
            "p2_conf                  1987 non-null float64\n",
            "p2_dog                   1987 non-null bool\n",
            "p3                       1987 non-null object\n",
            "p3_conf                  1987 non-null float64\n",
            "p3_dog                   1987 non-null bool\n",
            "dogs_stage               1987 non-null object\n",
            "dtypes: bool(3), float64(5), int64(8), object(11)\n",
            "memory usage: 393.9+ KB\n"
          ],
          "name": "stdout"
        }
      ]
    },
    {
      "cell_type": "code",
      "metadata": {
        "id": "RA0_BceGp89c",
        "colab_type": "code",
        "colab": {}
      },
      "source": [
        "# Drop Duplicates dog_breed\n",
        "df_merged.sort_values('dogs_stage').drop_duplicates(['tweet_id'], inplace=True)"
      ],
      "execution_count": 0,
      "outputs": []
    },
    {
      "cell_type": "code",
      "metadata": {
        "id": "ABaRTar5p89f",
        "colab_type": "code",
        "colab": {},
        "outputId": "aad66e4c-c42f-4447-feb7-60fa0901e566"
      },
      "source": [
        "# checking all the dog breed \n",
        "df_merged.dogs_stage.value_counts()"
      ],
      "execution_count": 0,
      "outputs": [
        {
          "output_type": "execute_result",
          "data": {
            "text/plain": [
              "None       1682\n",
              "pupper      212\n",
              "doggo        62\n",
              "puppo        23\n",
              "floofer       8\n",
              "Name: dogs_stage, dtype: int64"
            ]
          },
          "metadata": {
            "tags": []
          },
          "execution_count": 274
        }
      ]
    },
    {
      "cell_type": "markdown",
      "metadata": {
        "id": "M86zZ2Z0p89g",
        "colab_type": "text"
      },
      "source": [
        "### 4. Change datatype of TimeStamp into DateTime."
      ]
    },
    {
      "cell_type": "code",
      "metadata": {
        "id": "JEfa6YoRp89h",
        "colab_type": "code",
        "colab": {}
      },
      "source": [
        "df_merged.timestamp = pd.to_datetime(df_merged.timestamp)"
      ],
      "execution_count": 0,
      "outputs": []
    },
    {
      "cell_type": "code",
      "metadata": {
        "id": "r4ggM489p89i",
        "colab_type": "code",
        "colab": {
          "base_uri": "https://localhost:8080/",
          "height": 544
        },
        "outputId": "07cbd348-b700-4e66-a25a-3e0f8b58eb8c"
      },
      "source": [
        "df_merged.dtypes"
      ],
      "execution_count": 142,
      "outputs": [
        {
          "output_type": "execute_result",
          "data": {
            "text/plain": [
              "tweet_id                                    int64\n",
              "in_reply_to_status_id                     float64\n",
              "in_reply_to_user_id                       float64\n",
              "timestamp                     datetime64[ns, UTC]\n",
              "source                                     object\n",
              "text                                       object\n",
              "retweeted_status_id                       float64\n",
              "retweeted_status_user_id                  float64\n",
              "retweeted_status_timestamp                 object\n",
              "expanded_urls                              object\n",
              "rating_numerator                            int64\n",
              "rating_denominator                          int64\n",
              "name                                       object\n",
              "favorites                                   int64\n",
              "retweets                                    int64\n",
              "user_followers                              int64\n",
              "user_favourites                             int64\n",
              "date_time                     datetime64[ns, UTC]\n",
              "jpg_url                                    object\n",
              "img_num                                     int64\n",
              "p1                                         object\n",
              "p1_conf                                   float64\n",
              "p1_dog                                       bool\n",
              "p2                                         object\n",
              "p2_conf                                   float64\n",
              "p2_dog                                       bool\n",
              "p3                                         object\n",
              "p3_conf                                   float64\n",
              "p3_dog                                       bool\n",
              "dogs_stage                                 object\n",
              "dtype: object"
            ]
          },
          "metadata": {
            "tags": []
          },
          "execution_count": 142
        }
      ]
    },
    {
      "cell_type": "markdown",
      "metadata": {
        "id": "GlJuSztFp89k",
        "colab_type": "text"
      },
      "source": [
        "### 5. Create 1 column for image prediction and 1 column for confidence level."
      ]
    },
    {
      "cell_type": "code",
      "metadata": {
        "id": "mtYuzRnup89k",
        "colab_type": "code",
        "colab": {}
      },
      "source": [
        "# writing an prediction_confidence function\n",
        "# we are going to check if prediction is true, if yes then going to append prediction and confidence to their respective columns\n",
        "\n",
        "pred_algo = []\n",
        "conf_level = []\n",
        "\n",
        "def pred_conf(dataframe):\n",
        "    if dataframe['p1_dog'] == True:\n",
        "        pred_algo.append(dataframe['p1'])\n",
        "        conf_level.append(dataframe['p1_conf'])\n",
        "    elif dataframe['p2_dog'] == True:\n",
        "        pred_algo.append(dataframe['p2'])\n",
        "        conf_level.append(dataframe['p2_conf'])\n",
        "    elif dataframe['p3_dog'] == True:\n",
        "        pred_algo.append(dataframe['p3'])\n",
        "        conf_level.append(dataframe['p3_conf'])\n",
        "    else:\n",
        "        pred_algo.append('NaN')\n",
        "        conf_level.append(0)"
      ],
      "execution_count": 0,
      "outputs": []
    },
    {
      "cell_type": "code",
      "metadata": {
        "id": "b2iw9IQHp89m",
        "colab_type": "code",
        "colab": {}
      },
      "source": [
        "# calling pred_conf function \n",
        "df_merged.apply(pred_conf, axis = 1)\n",
        "df_merged['pred_algo'] = pred_algo\n",
        "df_merged['conf_level'] = conf_level"
      ],
      "execution_count": 0,
      "outputs": []
    },
    {
      "cell_type": "code",
      "metadata": {
        "id": "CQ-UWAQLp89n",
        "colab_type": "code",
        "colab": {
          "base_uri": "https://localhost:8080/",
          "height": 646
        },
        "outputId": "b9d61fb1-df6a-4244-e94b-da26cd55a35a"
      },
      "source": [
        "df_merged.info()"
      ],
      "execution_count": 145,
      "outputs": [
        {
          "output_type": "stream",
          "text": [
            "<class 'pandas.core.frame.DataFrame'>\n",
            "Int64Index: 1987 entries, 1982 to 7053\n",
            "Data columns (total 32 columns):\n",
            "tweet_id                      1987 non-null int64\n",
            "in_reply_to_status_id         23 non-null float64\n",
            "in_reply_to_user_id           23 non-null float64\n",
            "timestamp                     1987 non-null datetime64[ns, UTC]\n",
            "source                        1987 non-null object\n",
            "text                          1987 non-null object\n",
            "retweeted_status_id           0 non-null float64\n",
            "retweeted_status_user_id      0 non-null float64\n",
            "retweeted_status_timestamp    0 non-null object\n",
            "expanded_urls                 1987 non-null object\n",
            "rating_numerator              1987 non-null int64\n",
            "rating_denominator            1987 non-null int64\n",
            "name                          1987 non-null object\n",
            "favorites                     1987 non-null int64\n",
            "retweets                      1987 non-null int64\n",
            "user_followers                1987 non-null int64\n",
            "user_favourites               1987 non-null int64\n",
            "date_time                     1987 non-null datetime64[ns, UTC]\n",
            "jpg_url                       1987 non-null object\n",
            "img_num                       1987 non-null int64\n",
            "p1                            1987 non-null object\n",
            "p1_conf                       1987 non-null float64\n",
            "p1_dog                        1987 non-null bool\n",
            "p2                            1987 non-null object\n",
            "p2_conf                       1987 non-null float64\n",
            "p2_dog                        1987 non-null bool\n",
            "p3                            1987 non-null object\n",
            "p3_conf                       1987 non-null float64\n",
            "p3_dog                        1987 non-null bool\n",
            "dogs_stage                    1987 non-null object\n",
            "pred_algo                     1987 non-null object\n",
            "conf_level                    1987 non-null float64\n",
            "dtypes: bool(3), datetime64[ns, UTC](2), float64(8), int64(8), object(11)\n",
            "memory usage: 471.5+ KB\n"
          ],
          "name": "stdout"
        }
      ]
    },
    {
      "cell_type": "markdown",
      "metadata": {
        "id": "sKIZijHtp89p",
        "colab_type": "text"
      },
      "source": [
        "### 6. Removing unnecessary columns from df_merged"
      ]
    },
    {
      "cell_type": "code",
      "metadata": {
        "id": "9wj3kge0p89p",
        "colab_type": "code",
        "colab": {}
      },
      "source": [
        "df_merged.drop(['img_num', 'p1', 'p1_conf', 'p1_dog', 'p2', 'p2_conf', 'p2_dog', 'p3', 'p3_conf', 'p3_dog'], axis=1, inplace=True)"
      ],
      "execution_count": 0,
      "outputs": []
    },
    {
      "cell_type": "code",
      "metadata": {
        "id": "kXbcJJIcp89s",
        "colab_type": "code",
        "colab": {}
      },
      "source": [
        "df_merged.drop(['in_reply_to_status_id', 'in_reply_to_user_id', 'user_favourites'], axis=1, inplace=True)"
      ],
      "execution_count": 0,
      "outputs": []
    },
    {
      "cell_type": "code",
      "metadata": {
        "id": "VpdH_MGep89t",
        "colab_type": "code",
        "colab": {
          "base_uri": "https://localhost:8080/",
          "height": 425
        },
        "outputId": "edd02a6c-3bcf-476a-a1ce-6691d06ef764"
      },
      "source": [
        "df_merged.info()"
      ],
      "execution_count": 148,
      "outputs": [
        {
          "output_type": "stream",
          "text": [
            "<class 'pandas.core.frame.DataFrame'>\n",
            "Int64Index: 1987 entries, 1982 to 7053\n",
            "Data columns (total 19 columns):\n",
            "tweet_id                      1987 non-null int64\n",
            "timestamp                     1987 non-null datetime64[ns, UTC]\n",
            "source                        1987 non-null object\n",
            "text                          1987 non-null object\n",
            "retweeted_status_id           0 non-null float64\n",
            "retweeted_status_user_id      0 non-null float64\n",
            "retweeted_status_timestamp    0 non-null object\n",
            "expanded_urls                 1987 non-null object\n",
            "rating_numerator              1987 non-null int64\n",
            "rating_denominator            1987 non-null int64\n",
            "name                          1987 non-null object\n",
            "favorites                     1987 non-null int64\n",
            "retweets                      1987 non-null int64\n",
            "user_followers                1987 non-null int64\n",
            "date_time                     1987 non-null datetime64[ns, UTC]\n",
            "jpg_url                       1987 non-null object\n",
            "dogs_stage                    1987 non-null object\n",
            "pred_algo                     1987 non-null object\n",
            "conf_level                    1987 non-null float64\n",
            "dtypes: datetime64[ns, UTC](2), float64(3), int64(6), object(8)\n",
            "memory usage: 310.5+ KB\n"
          ],
          "name": "stdout"
        }
      ]
    },
    {
      "cell_type": "code",
      "metadata": {
        "id": "qlSIVYqHp89v",
        "colab_type": "code",
        "colab": {
          "base_uri": "https://localhost:8080/",
          "height": 394
        },
        "outputId": "01709796-6eb9-4ec0-bb40-40ce3e4f2eb8"
      },
      "source": [
        "df_merged.head()"
      ],
      "execution_count": 149,
      "outputs": [
        {
          "output_type": "execute_result",
          "data": {
            "text/html": [
              "<div>\n",
              "<style scoped>\n",
              "    .dataframe tbody tr th:only-of-type {\n",
              "        vertical-align: middle;\n",
              "    }\n",
              "\n",
              "    .dataframe tbody tr th {\n",
              "        vertical-align: top;\n",
              "    }\n",
              "\n",
              "    .dataframe thead th {\n",
              "        text-align: right;\n",
              "    }\n",
              "</style>\n",
              "<table border=\"1\" class=\"dataframe\">\n",
              "  <thead>\n",
              "    <tr style=\"text-align: right;\">\n",
              "      <th></th>\n",
              "      <th>tweet_id</th>\n",
              "      <th>timestamp</th>\n",
              "      <th>source</th>\n",
              "      <th>text</th>\n",
              "      <th>retweeted_status_id</th>\n",
              "      <th>retweeted_status_user_id</th>\n",
              "      <th>retweeted_status_timestamp</th>\n",
              "      <th>expanded_urls</th>\n",
              "      <th>rating_numerator</th>\n",
              "      <th>rating_denominator</th>\n",
              "      <th>name</th>\n",
              "      <th>favorites</th>\n",
              "      <th>retweets</th>\n",
              "      <th>user_followers</th>\n",
              "      <th>date_time</th>\n",
              "      <th>jpg_url</th>\n",
              "      <th>dogs_stage</th>\n",
              "      <th>pred_algo</th>\n",
              "      <th>conf_level</th>\n",
              "    </tr>\n",
              "  </thead>\n",
              "  <tbody>\n",
              "    <tr>\n",
              "      <th>1982</th>\n",
              "      <td>667435689202614272</td>\n",
              "      <td>2015-11-19 20:14:03+00:00</td>\n",
              "      <td>&lt;a href=\"http://twitter.com/download/iphone\" r...</td>\n",
              "      <td>Ermergerd 12/10 https://t.co/PQni2sjPsm</td>\n",
              "      <td>NaN</td>\n",
              "      <td>NaN</td>\n",
              "      <td>NaN</td>\n",
              "      <td>https://twitter.com/dog_rates/status/667435689...</td>\n",
              "      <td>12</td>\n",
              "      <td>10</td>\n",
              "      <td>None</td>\n",
              "      <td>298</td>\n",
              "      <td>82</td>\n",
              "      <td>8662578</td>\n",
              "      <td>2015-11-19 20:14:03+00:00</td>\n",
              "      <td>https://pbs.twimg.com/media/CUM1OHCW4AEgGSi.jpg</td>\n",
              "      <td>None</td>\n",
              "      <td>Rottweiler</td>\n",
              "      <td>0.999091</td>\n",
              "    </tr>\n",
              "    <tr>\n",
              "      <th>1981</th>\n",
              "      <td>667437278097252352</td>\n",
              "      <td>2015-11-19 20:20:22+00:00</td>\n",
              "      <td>&lt;a href=\"http://twitter.com/download/iphone\" r...</td>\n",
              "      <td>Never seen this breed before. Very pointy pup....</td>\n",
              "      <td>NaN</td>\n",
              "      <td>NaN</td>\n",
              "      <td>NaN</td>\n",
              "      <td>https://twitter.com/dog_rates/status/667437278...</td>\n",
              "      <td>10</td>\n",
              "      <td>10</td>\n",
              "      <td>None</td>\n",
              "      <td>437</td>\n",
              "      <td>227</td>\n",
              "      <td>8662578</td>\n",
              "      <td>2015-11-19 20:20:22+00:00</td>\n",
              "      <td>https://pbs.twimg.com/media/CUM2qWaWoAUZ06L.jpg</td>\n",
              "      <td>None</td>\n",
              "      <td>NaN</td>\n",
              "      <td>0.000000</td>\n",
              "    </tr>\n",
              "    <tr>\n",
              "      <th>1980</th>\n",
              "      <td>667443425659232256</td>\n",
              "      <td>2015-11-19 20:44:47+00:00</td>\n",
              "      <td>&lt;a href=\"http://twitter.com/download/iphone\" r...</td>\n",
              "      <td>Exotic dog here. Long neck. Weird paws. Obsess...</td>\n",
              "      <td>NaN</td>\n",
              "      <td>NaN</td>\n",
              "      <td>NaN</td>\n",
              "      <td>https://twitter.com/dog_rates/status/667443425...</td>\n",
              "      <td>6</td>\n",
              "      <td>10</td>\n",
              "      <td>None</td>\n",
              "      <td>755</td>\n",
              "      <td>555</td>\n",
              "      <td>8662578</td>\n",
              "      <td>2015-11-19 20:44:47+00:00</td>\n",
              "      <td>https://pbs.twimg.com/media/CUM8QZwW4AAVsBl.jpg</td>\n",
              "      <td>None</td>\n",
              "      <td>NaN</td>\n",
              "      <td>0.000000</td>\n",
              "    </tr>\n",
              "    <tr>\n",
              "      <th>1979</th>\n",
              "      <td>667453023279554560</td>\n",
              "      <td>2015-11-19 21:22:56+00:00</td>\n",
              "      <td>&lt;a href=\"http://twitter.com\" rel=\"nofollow\"&gt;Tw...</td>\n",
              "      <td>Meet Cupcake. I would do unspeakable things fo...</td>\n",
              "      <td>NaN</td>\n",
              "      <td>NaN</td>\n",
              "      <td>NaN</td>\n",
              "      <td>https://twitter.com/dog_rates/status/667453023...</td>\n",
              "      <td>11</td>\n",
              "      <td>10</td>\n",
              "      <td>Cupcake</td>\n",
              "      <td>296</td>\n",
              "      <td>85</td>\n",
              "      <td>8662577</td>\n",
              "      <td>2015-11-19 21:22:56+00:00</td>\n",
              "      <td>https://pbs.twimg.com/media/CUNE_OSUwAAdHhX.jpg</td>\n",
              "      <td>None</td>\n",
              "      <td>Labrador_retriever</td>\n",
              "      <td>0.825670</td>\n",
              "    </tr>\n",
              "    <tr>\n",
              "      <th>1978</th>\n",
              "      <td>667455448082227200</td>\n",
              "      <td>2015-11-19 21:32:34+00:00</td>\n",
              "      <td>&lt;a href=\"http://twitter.com\" rel=\"nofollow\"&gt;Tw...</td>\n",
              "      <td>This is Reese and Twips. Reese protects Twips....</td>\n",
              "      <td>NaN</td>\n",
              "      <td>NaN</td>\n",
              "      <td>NaN</td>\n",
              "      <td>https://twitter.com/dog_rates/status/667455448...</td>\n",
              "      <td>7</td>\n",
              "      <td>10</td>\n",
              "      <td>Reese</td>\n",
              "      <td>184</td>\n",
              "      <td>57</td>\n",
              "      <td>8662577</td>\n",
              "      <td>2015-11-19 21:32:34+00:00</td>\n",
              "      <td>https://pbs.twimg.com/media/CUNHMXTU8AAS3HH.jpg</td>\n",
              "      <td>None</td>\n",
              "      <td>Tibetan_terrier</td>\n",
              "      <td>0.676376</td>\n",
              "    </tr>\n",
              "  </tbody>\n",
              "</table>\n",
              "</div>"
            ],
            "text/plain": [
              "                tweet_id  ... conf_level\n",
              "1982  667435689202614272  ...   0.999091\n",
              "1981  667437278097252352  ...   0.000000\n",
              "1980  667443425659232256  ...   0.000000\n",
              "1979  667453023279554560  ...   0.825670\n",
              "1978  667455448082227200  ...   0.676376\n",
              "\n",
              "[5 rows x 19 columns]"
            ]
          },
          "metadata": {
            "tags": []
          },
          "execution_count": 149
        }
      ]
    },
    {
      "cell_type": "markdown",
      "metadata": {
        "id": "NGDTvQB-p89w",
        "colab_type": "text"
      },
      "source": [
        "### 7. Sources are difficult to read. Clean the content of source column.\n"
      ]
    },
    {
      "cell_type": "code",
      "metadata": {
        "id": "YTGebLshp89w",
        "colab_type": "code",
        "colab": {}
      },
      "source": [
        "df_merged['source'] = df_merged['source'].apply(lambda x: re.findall(r'>(.*)<', x)[0])"
      ],
      "execution_count": 0,
      "outputs": []
    },
    {
      "cell_type": "code",
      "metadata": {
        "id": "OmilDih5p89y",
        "colab_type": "code",
        "colab": {
          "base_uri": "https://localhost:8080/",
          "height": 394
        },
        "outputId": "616380fd-6c95-4549-a87c-232194032d18"
      },
      "source": [
        "df_merged.head()"
      ],
      "execution_count": 151,
      "outputs": [
        {
          "output_type": "execute_result",
          "data": {
            "text/html": [
              "<div>\n",
              "<style scoped>\n",
              "    .dataframe tbody tr th:only-of-type {\n",
              "        vertical-align: middle;\n",
              "    }\n",
              "\n",
              "    .dataframe tbody tr th {\n",
              "        vertical-align: top;\n",
              "    }\n",
              "\n",
              "    .dataframe thead th {\n",
              "        text-align: right;\n",
              "    }\n",
              "</style>\n",
              "<table border=\"1\" class=\"dataframe\">\n",
              "  <thead>\n",
              "    <tr style=\"text-align: right;\">\n",
              "      <th></th>\n",
              "      <th>tweet_id</th>\n",
              "      <th>timestamp</th>\n",
              "      <th>source</th>\n",
              "      <th>text</th>\n",
              "      <th>retweeted_status_id</th>\n",
              "      <th>retweeted_status_user_id</th>\n",
              "      <th>retweeted_status_timestamp</th>\n",
              "      <th>expanded_urls</th>\n",
              "      <th>rating_numerator</th>\n",
              "      <th>rating_denominator</th>\n",
              "      <th>name</th>\n",
              "      <th>favorites</th>\n",
              "      <th>retweets</th>\n",
              "      <th>user_followers</th>\n",
              "      <th>date_time</th>\n",
              "      <th>jpg_url</th>\n",
              "      <th>dogs_stage</th>\n",
              "      <th>pred_algo</th>\n",
              "      <th>conf_level</th>\n",
              "    </tr>\n",
              "  </thead>\n",
              "  <tbody>\n",
              "    <tr>\n",
              "      <th>1982</th>\n",
              "      <td>667435689202614272</td>\n",
              "      <td>2015-11-19 20:14:03+00:00</td>\n",
              "      <td>Twitter for iPhone</td>\n",
              "      <td>Ermergerd 12/10 https://t.co/PQni2sjPsm</td>\n",
              "      <td>NaN</td>\n",
              "      <td>NaN</td>\n",
              "      <td>NaN</td>\n",
              "      <td>https://twitter.com/dog_rates/status/667435689...</td>\n",
              "      <td>12</td>\n",
              "      <td>10</td>\n",
              "      <td>None</td>\n",
              "      <td>298</td>\n",
              "      <td>82</td>\n",
              "      <td>8662578</td>\n",
              "      <td>2015-11-19 20:14:03+00:00</td>\n",
              "      <td>https://pbs.twimg.com/media/CUM1OHCW4AEgGSi.jpg</td>\n",
              "      <td>None</td>\n",
              "      <td>Rottweiler</td>\n",
              "      <td>0.999091</td>\n",
              "    </tr>\n",
              "    <tr>\n",
              "      <th>1981</th>\n",
              "      <td>667437278097252352</td>\n",
              "      <td>2015-11-19 20:20:22+00:00</td>\n",
              "      <td>Twitter for iPhone</td>\n",
              "      <td>Never seen this breed before. Very pointy pup....</td>\n",
              "      <td>NaN</td>\n",
              "      <td>NaN</td>\n",
              "      <td>NaN</td>\n",
              "      <td>https://twitter.com/dog_rates/status/667437278...</td>\n",
              "      <td>10</td>\n",
              "      <td>10</td>\n",
              "      <td>None</td>\n",
              "      <td>437</td>\n",
              "      <td>227</td>\n",
              "      <td>8662578</td>\n",
              "      <td>2015-11-19 20:20:22+00:00</td>\n",
              "      <td>https://pbs.twimg.com/media/CUM2qWaWoAUZ06L.jpg</td>\n",
              "      <td>None</td>\n",
              "      <td>NaN</td>\n",
              "      <td>0.000000</td>\n",
              "    </tr>\n",
              "    <tr>\n",
              "      <th>1980</th>\n",
              "      <td>667443425659232256</td>\n",
              "      <td>2015-11-19 20:44:47+00:00</td>\n",
              "      <td>Twitter for iPhone</td>\n",
              "      <td>Exotic dog here. Long neck. Weird paws. Obsess...</td>\n",
              "      <td>NaN</td>\n",
              "      <td>NaN</td>\n",
              "      <td>NaN</td>\n",
              "      <td>https://twitter.com/dog_rates/status/667443425...</td>\n",
              "      <td>6</td>\n",
              "      <td>10</td>\n",
              "      <td>None</td>\n",
              "      <td>755</td>\n",
              "      <td>555</td>\n",
              "      <td>8662578</td>\n",
              "      <td>2015-11-19 20:44:47+00:00</td>\n",
              "      <td>https://pbs.twimg.com/media/CUM8QZwW4AAVsBl.jpg</td>\n",
              "      <td>None</td>\n",
              "      <td>NaN</td>\n",
              "      <td>0.000000</td>\n",
              "    </tr>\n",
              "    <tr>\n",
              "      <th>1979</th>\n",
              "      <td>667453023279554560</td>\n",
              "      <td>2015-11-19 21:22:56+00:00</td>\n",
              "      <td>Twitter Web Client</td>\n",
              "      <td>Meet Cupcake. I would do unspeakable things fo...</td>\n",
              "      <td>NaN</td>\n",
              "      <td>NaN</td>\n",
              "      <td>NaN</td>\n",
              "      <td>https://twitter.com/dog_rates/status/667453023...</td>\n",
              "      <td>11</td>\n",
              "      <td>10</td>\n",
              "      <td>Cupcake</td>\n",
              "      <td>296</td>\n",
              "      <td>85</td>\n",
              "      <td>8662577</td>\n",
              "      <td>2015-11-19 21:22:56+00:00</td>\n",
              "      <td>https://pbs.twimg.com/media/CUNE_OSUwAAdHhX.jpg</td>\n",
              "      <td>None</td>\n",
              "      <td>Labrador_retriever</td>\n",
              "      <td>0.825670</td>\n",
              "    </tr>\n",
              "    <tr>\n",
              "      <th>1978</th>\n",
              "      <td>667455448082227200</td>\n",
              "      <td>2015-11-19 21:32:34+00:00</td>\n",
              "      <td>Twitter Web Client</td>\n",
              "      <td>This is Reese and Twips. Reese protects Twips....</td>\n",
              "      <td>NaN</td>\n",
              "      <td>NaN</td>\n",
              "      <td>NaN</td>\n",
              "      <td>https://twitter.com/dog_rates/status/667455448...</td>\n",
              "      <td>7</td>\n",
              "      <td>10</td>\n",
              "      <td>Reese</td>\n",
              "      <td>184</td>\n",
              "      <td>57</td>\n",
              "      <td>8662577</td>\n",
              "      <td>2015-11-19 21:32:34+00:00</td>\n",
              "      <td>https://pbs.twimg.com/media/CUNHMXTU8AAS3HH.jpg</td>\n",
              "      <td>None</td>\n",
              "      <td>Tibetan_terrier</td>\n",
              "      <td>0.676376</td>\n",
              "    </tr>\n",
              "  </tbody>\n",
              "</table>\n",
              "</div>"
            ],
            "text/plain": [
              "                tweet_id  ... conf_level\n",
              "1982  667435689202614272  ...   0.999091\n",
              "1981  667437278097252352  ...   0.000000\n",
              "1980  667443425659232256  ...   0.000000\n",
              "1979  667453023279554560  ...   0.825670\n",
              "1978  667455448082227200  ...   0.676376\n",
              "\n",
              "[5 rows x 19 columns]"
            ]
          },
          "metadata": {
            "tags": []
          },
          "execution_count": 151
        }
      ]
    },
    {
      "cell_type": "code",
      "metadata": {
        "id": "lHr83b3qp89z",
        "colab_type": "code",
        "colab": {}
      },
      "source": [
        "# removing date_time column\n",
        "df_merged.drop('date_time', axis = 1, inplace=True)"
      ],
      "execution_count": 0,
      "outputs": []
    },
    {
      "cell_type": "code",
      "metadata": {
        "id": "V1HZoM5Bp890",
        "colab_type": "code",
        "colab": {
          "base_uri": "https://localhost:8080/",
          "height": 408
        },
        "outputId": "73e0f59f-a8b3-4ad8-aa08-7b9d64e64062"
      },
      "source": [
        "df_merged.info()"
      ],
      "execution_count": 153,
      "outputs": [
        {
          "output_type": "stream",
          "text": [
            "<class 'pandas.core.frame.DataFrame'>\n",
            "Int64Index: 1987 entries, 1982 to 7053\n",
            "Data columns (total 18 columns):\n",
            "tweet_id                      1987 non-null int64\n",
            "timestamp                     1987 non-null datetime64[ns, UTC]\n",
            "source                        1987 non-null object\n",
            "text                          1987 non-null object\n",
            "retweeted_status_id           0 non-null float64\n",
            "retweeted_status_user_id      0 non-null float64\n",
            "retweeted_status_timestamp    0 non-null object\n",
            "expanded_urls                 1987 non-null object\n",
            "rating_numerator              1987 non-null int64\n",
            "rating_denominator            1987 non-null int64\n",
            "name                          1987 non-null object\n",
            "favorites                     1987 non-null int64\n",
            "retweets                      1987 non-null int64\n",
            "user_followers                1987 non-null int64\n",
            "jpg_url                       1987 non-null object\n",
            "dogs_stage                    1987 non-null object\n",
            "pred_algo                     1987 non-null object\n",
            "conf_level                    1987 non-null float64\n",
            "dtypes: datetime64[ns, UTC](1), float64(3), int64(6), object(8)\n",
            "memory usage: 294.9+ KB\n"
          ],
          "name": "stdout"
        }
      ]
    },
    {
      "cell_type": "markdown",
      "metadata": {
        "id": "CKcWZ6a8p892",
        "colab_type": "text"
      },
      "source": [
        "### 8. Strings are not accuartely found in 'name' column"
      ]
    },
    {
      "cell_type": "code",
      "metadata": {
        "id": "VyY8Gfpmp892",
        "colab_type": "code",
        "colab": {
          "base_uri": "https://localhost:8080/",
          "height": 54
        },
        "outputId": "666c2883-c3ea-4206-d15b-c232be2b15eb"
      },
      "source": [
        "lowercase_names = []\n",
        "for row in df_merged['name']:\n",
        "    if row[0].islower() and row not in lowercase_names:\n",
        "        lowercase_names.append(row)\n",
        "print(lowercase_names)"
      ],
      "execution_count": 154,
      "outputs": [
        {
          "output_type": "stream",
          "text": [
            "['a', 'an', 'quite', 'the', 'such', 'getting', 'actually', 'infuriating', 'very', 'light', 'space', 'just', 'by', 'officially', 'incredibly', 'one', 'my', 'not', 'this', 'unacceptable', 'his', 'all']\n"
          ],
          "name": "stdout"
        }
      ]
    },
    {
      "cell_type": "code",
      "metadata": {
        "id": "vIiEAQBup893",
        "colab_type": "code",
        "colab": {}
      },
      "source": [
        "# Replace all names that start with a lowercase letter with NaN\n",
        "df_merged['name'].replace(lowercase_names, \n",
        "                        np.nan,\n",
        "                       inplace = True)\n",
        "\n",
        "# Replace all 'None's with NaN\n",
        "df_merged['name'].replace('None', \n",
        "                        np.nan,\n",
        "                       inplace = True)"
      ],
      "execution_count": 0,
      "outputs": []
    },
    {
      "cell_type": "code",
      "metadata": {
        "id": "zQlLRg_ep894",
        "colab_type": "code",
        "colab": {
          "base_uri": "https://localhost:8080/",
          "height": 221
        },
        "outputId": "6ebb531c-09c8-4c35-b2dc-31ed7cf7e91f"
      },
      "source": [
        "df_merged.name.value_counts()"
      ],
      "execution_count": 156,
      "outputs": [
        {
          "output_type": "execute_result",
          "data": {
            "text/plain": [
              "Oliver      10\n",
              "Cooper      10\n",
              "Charlie     10\n",
              "Penny        9\n",
              "Lucy         9\n",
              "            ..\n",
              "William      1\n",
              "Vinscent     1\n",
              "Dug          1\n",
              "Billy        1\n",
              "Hanz         1\n",
              "Name: name, Length: 911, dtype: int64"
            ]
          },
          "metadata": {
            "tags": []
          },
          "execution_count": 156
        }
      ]
    },
    {
      "cell_type": "markdown",
      "metadata": {
        "id": "6C8WN3rvp896",
        "colab_type": "text"
      },
      "source": [
        "### 9. Replace the Numerator and denominator ratings\n",
        "\n"
      ]
    },
    {
      "cell_type": "code",
      "metadata": {
        "id": "Lk7rCjC4p896",
        "colab_type": "code",
        "colab": {
          "base_uri": "https://localhost:8080/",
          "height": 105
        },
        "outputId": "f49754e6-bce8-408b-adc5-d67e97be8229"
      },
      "source": [
        "# Obtain all text, indices, and ratings for tweets that contain a decimal \n",
        "# in the numerator of rating\n",
        "ratings_with_decimals_text = []\n",
        "ratings_with_decimals_index = []\n",
        "ratings_with_decimals = []\n",
        "\n",
        "\n",
        "for i, text in df_merged['text'].iteritems():\n",
        "    if bool(re.search('\\d+\\.\\d+\\/\\d+', text)):\n",
        "        ratings_with_decimals_text.append(text)\n",
        "        ratings_with_decimals_index.append(i)\n",
        "        ratings_with_decimals.append(re.search('\\d+\\.\\d+', text).group())\n",
        "\n",
        "# Print the text to confirm presence of ratings with decimals        \n",
        "ratings_with_decimals_text"
      ],
      "execution_count": 157,
      "outputs": [
        {
          "output_type": "execute_result",
          "data": {
            "text/plain": [
              "['This is Bella. She hopes her smile made you smile. If not, she is also offering you her favorite monkey. 13.5/10 https://t.co/qjrljjt948',\n",
              " 'Here we have uncovered an entire battalion of holiday puppers. Average of 11.26/10 https://t.co/eNm2S6p9BD',\n",
              " \"This is Logan, the Chow who lived. He solemnly swears he's up to lots of good. H*ckin magical af 9.75/10 https://t.co/yBO5wuqaPS\",\n",
              " \"This is Sophie. She's a Jubilant Bush Pupper. Super h*ckin rare. Appears at random just to smile at the locals. 11.27/10 would smile back https://t.co/QFaUiIHxHq\"]"
            ]
          },
          "metadata": {
            "tags": []
          },
          "execution_count": 157
        }
      ]
    },
    {
      "cell_type": "code",
      "metadata": {
        "id": "bDGG8iSCp89-",
        "colab_type": "code",
        "colab": {
          "base_uri": "https://localhost:8080/",
          "height": 34
        },
        "outputId": "210420fd-beb4-4e4a-c4e6-46e099331193"
      },
      "source": [
        "# Print the index of text with decimal ratings\n",
        "ratings_with_decimals_index"
      ],
      "execution_count": 158,
      "outputs": [
        {
          "output_type": "execute_result",
          "data": {
            "text/plain": [
              "[40, 3497, 2607, 4721]"
            ]
          },
          "metadata": {
            "tags": []
          },
          "execution_count": 158
        }
      ]
    },
    {
      "cell_type": "code",
      "metadata": {
        "id": "lz9XCuXip89_",
        "colab_type": "code",
        "colab": {}
      },
      "source": [
        "# Changeing contents of 'rating_numerator' based on info found in preceeding 2 cells\n",
        "df_merged.loc[ratings_with_decimals_index[0],'rating_numerator'] = float(ratings_with_decimals[0])\n",
        "df_merged.loc[ratings_with_decimals_index[1],'rating_numerator'] = float(ratings_with_decimals[1])\n",
        "df_merged.loc[ratings_with_decimals_index[2],'rating_numerator'] = float(ratings_with_decimals[2])\n",
        "df_merged.loc[ratings_with_decimals_index[3],'rating_numerator'] = float(ratings_with_decimals[3])"
      ],
      "execution_count": 0,
      "outputs": []
    },
    {
      "cell_type": "code",
      "metadata": {
        "id": "sdDaDUiCp8-A",
        "colab_type": "code",
        "colab": {
          "base_uri": "https://localhost:8080/",
          "height": 340
        },
        "outputId": "91105db3-fc9f-40b5-b475-ba0d4d4fe134"
      },
      "source": [
        "# Check contents of row with index 40 to ensure the rating is corrected\n",
        "df_merged.loc[40]"
      ],
      "execution_count": 160,
      "outputs": [
        {
          "output_type": "execute_result",
          "data": {
            "text/plain": [
              "tweet_id                                                     883482846933004288\n",
              "timestamp                                             2017-07-08 00:28:19+00:00\n",
              "source                                                       Twitter for iPhone\n",
              "text                          This is Bella. She hopes her smile made you sm...\n",
              "retweeted_status_id                                                         NaN\n",
              "retweeted_status_user_id                                                    NaN\n",
              "retweeted_status_timestamp                                                  NaN\n",
              "expanded_urls                 https://twitter.com/dog_rates/status/883482846...\n",
              "rating_numerator                                                           13.5\n",
              "rating_denominator                                                           10\n",
              "name                                                                      Bella\n",
              "favorites                                                                 43482\n",
              "retweets                                                                   9134\n",
              "user_followers                                                          8662532\n",
              "jpg_url                         https://pbs.twimg.com/media/DELC9dZXUAADqUk.jpg\n",
              "dogs_stage                                                                 None\n",
              "pred_algo                                                      golden_retriever\n",
              "conf_level                                                             0.943082\n",
              "Name: 40, dtype: object"
            ]
          },
          "metadata": {
            "tags": []
          },
          "execution_count": 160
        }
      ]
    },
    {
      "cell_type": "code",
      "metadata": {
        "id": "URQ2VrWNp8-C",
        "colab_type": "code",
        "colab": {}
      },
      "source": [
        "# create new column with rating\n",
        "df_merged['rating'] = df_merged['rating_numerator'] / df_merged['rating_denominator']"
      ],
      "execution_count": 0,
      "outputs": []
    },
    {
      "cell_type": "code",
      "metadata": {
        "id": "vtApdPY0p8-D",
        "colab_type": "code",
        "colab": {
          "base_uri": "https://localhost:8080/",
          "height": 394
        },
        "outputId": "5ffbb841-b6e4-4357-ea24-10804d84ee1a"
      },
      "source": [
        "df_merged.head()"
      ],
      "execution_count": 162,
      "outputs": [
        {
          "output_type": "execute_result",
          "data": {
            "text/html": [
              "<div>\n",
              "<style scoped>\n",
              "    .dataframe tbody tr th:only-of-type {\n",
              "        vertical-align: middle;\n",
              "    }\n",
              "\n",
              "    .dataframe tbody tr th {\n",
              "        vertical-align: top;\n",
              "    }\n",
              "\n",
              "    .dataframe thead th {\n",
              "        text-align: right;\n",
              "    }\n",
              "</style>\n",
              "<table border=\"1\" class=\"dataframe\">\n",
              "  <thead>\n",
              "    <tr style=\"text-align: right;\">\n",
              "      <th></th>\n",
              "      <th>tweet_id</th>\n",
              "      <th>timestamp</th>\n",
              "      <th>source</th>\n",
              "      <th>text</th>\n",
              "      <th>retweeted_status_id</th>\n",
              "      <th>retweeted_status_user_id</th>\n",
              "      <th>retweeted_status_timestamp</th>\n",
              "      <th>expanded_urls</th>\n",
              "      <th>rating_numerator</th>\n",
              "      <th>rating_denominator</th>\n",
              "      <th>name</th>\n",
              "      <th>favorites</th>\n",
              "      <th>retweets</th>\n",
              "      <th>user_followers</th>\n",
              "      <th>jpg_url</th>\n",
              "      <th>dogs_stage</th>\n",
              "      <th>pred_algo</th>\n",
              "      <th>conf_level</th>\n",
              "      <th>rating</th>\n",
              "    </tr>\n",
              "  </thead>\n",
              "  <tbody>\n",
              "    <tr>\n",
              "      <th>1982</th>\n",
              "      <td>667435689202614272</td>\n",
              "      <td>2015-11-19 20:14:03+00:00</td>\n",
              "      <td>Twitter for iPhone</td>\n",
              "      <td>Ermergerd 12/10 https://t.co/PQni2sjPsm</td>\n",
              "      <td>NaN</td>\n",
              "      <td>NaN</td>\n",
              "      <td>NaN</td>\n",
              "      <td>https://twitter.com/dog_rates/status/667435689...</td>\n",
              "      <td>12.0</td>\n",
              "      <td>10</td>\n",
              "      <td>NaN</td>\n",
              "      <td>298</td>\n",
              "      <td>82</td>\n",
              "      <td>8662578</td>\n",
              "      <td>https://pbs.twimg.com/media/CUM1OHCW4AEgGSi.jpg</td>\n",
              "      <td>None</td>\n",
              "      <td>Rottweiler</td>\n",
              "      <td>0.999091</td>\n",
              "      <td>1.2</td>\n",
              "    </tr>\n",
              "    <tr>\n",
              "      <th>1981</th>\n",
              "      <td>667437278097252352</td>\n",
              "      <td>2015-11-19 20:20:22+00:00</td>\n",
              "      <td>Twitter for iPhone</td>\n",
              "      <td>Never seen this breed before. Very pointy pup....</td>\n",
              "      <td>NaN</td>\n",
              "      <td>NaN</td>\n",
              "      <td>NaN</td>\n",
              "      <td>https://twitter.com/dog_rates/status/667437278...</td>\n",
              "      <td>10.0</td>\n",
              "      <td>10</td>\n",
              "      <td>NaN</td>\n",
              "      <td>437</td>\n",
              "      <td>227</td>\n",
              "      <td>8662578</td>\n",
              "      <td>https://pbs.twimg.com/media/CUM2qWaWoAUZ06L.jpg</td>\n",
              "      <td>None</td>\n",
              "      <td>NaN</td>\n",
              "      <td>0.000000</td>\n",
              "      <td>1.0</td>\n",
              "    </tr>\n",
              "    <tr>\n",
              "      <th>1980</th>\n",
              "      <td>667443425659232256</td>\n",
              "      <td>2015-11-19 20:44:47+00:00</td>\n",
              "      <td>Twitter for iPhone</td>\n",
              "      <td>Exotic dog here. Long neck. Weird paws. Obsess...</td>\n",
              "      <td>NaN</td>\n",
              "      <td>NaN</td>\n",
              "      <td>NaN</td>\n",
              "      <td>https://twitter.com/dog_rates/status/667443425...</td>\n",
              "      <td>6.0</td>\n",
              "      <td>10</td>\n",
              "      <td>NaN</td>\n",
              "      <td>755</td>\n",
              "      <td>555</td>\n",
              "      <td>8662578</td>\n",
              "      <td>https://pbs.twimg.com/media/CUM8QZwW4AAVsBl.jpg</td>\n",
              "      <td>None</td>\n",
              "      <td>NaN</td>\n",
              "      <td>0.000000</td>\n",
              "      <td>0.6</td>\n",
              "    </tr>\n",
              "    <tr>\n",
              "      <th>1979</th>\n",
              "      <td>667453023279554560</td>\n",
              "      <td>2015-11-19 21:22:56+00:00</td>\n",
              "      <td>Twitter Web Client</td>\n",
              "      <td>Meet Cupcake. I would do unspeakable things fo...</td>\n",
              "      <td>NaN</td>\n",
              "      <td>NaN</td>\n",
              "      <td>NaN</td>\n",
              "      <td>https://twitter.com/dog_rates/status/667453023...</td>\n",
              "      <td>11.0</td>\n",
              "      <td>10</td>\n",
              "      <td>Cupcake</td>\n",
              "      <td>296</td>\n",
              "      <td>85</td>\n",
              "      <td>8662577</td>\n",
              "      <td>https://pbs.twimg.com/media/CUNE_OSUwAAdHhX.jpg</td>\n",
              "      <td>None</td>\n",
              "      <td>Labrador_retriever</td>\n",
              "      <td>0.825670</td>\n",
              "      <td>1.1</td>\n",
              "    </tr>\n",
              "    <tr>\n",
              "      <th>1978</th>\n",
              "      <td>667455448082227200</td>\n",
              "      <td>2015-11-19 21:32:34+00:00</td>\n",
              "      <td>Twitter Web Client</td>\n",
              "      <td>This is Reese and Twips. Reese protects Twips....</td>\n",
              "      <td>NaN</td>\n",
              "      <td>NaN</td>\n",
              "      <td>NaN</td>\n",
              "      <td>https://twitter.com/dog_rates/status/667455448...</td>\n",
              "      <td>7.0</td>\n",
              "      <td>10</td>\n",
              "      <td>Reese</td>\n",
              "      <td>184</td>\n",
              "      <td>57</td>\n",
              "      <td>8662577</td>\n",
              "      <td>https://pbs.twimg.com/media/CUNHMXTU8AAS3HH.jpg</td>\n",
              "      <td>None</td>\n",
              "      <td>Tibetan_terrier</td>\n",
              "      <td>0.676376</td>\n",
              "      <td>0.7</td>\n",
              "    </tr>\n",
              "  </tbody>\n",
              "</table>\n",
              "</div>"
            ],
            "text/plain": [
              "                tweet_id                 timestamp  ... conf_level rating\n",
              "1982  667435689202614272 2015-11-19 20:14:03+00:00  ...   0.999091    1.2\n",
              "1981  667437278097252352 2015-11-19 20:20:22+00:00  ...   0.000000    1.0\n",
              "1980  667443425659232256 2015-11-19 20:44:47+00:00  ...   0.000000    0.6\n",
              "1979  667453023279554560 2015-11-19 21:22:56+00:00  ...   0.825670    1.1\n",
              "1978  667455448082227200 2015-11-19 21:32:34+00:00  ...   0.676376    0.7\n",
              "\n",
              "[5 rows x 19 columns]"
            ]
          },
          "metadata": {
            "tags": []
          },
          "execution_count": 162
        }
      ]
    },
    {
      "cell_type": "code",
      "metadata": {
        "id": "cxKHsE8Np8-E",
        "colab_type": "code",
        "colab": {
          "base_uri": "https://localhost:8080/",
          "height": 34
        },
        "outputId": "fc35a321-9102-4ac5-841b-cdc8712d3f36"
      },
      "source": [
        "df_merged.shape"
      ],
      "execution_count": 163,
      "outputs": [
        {
          "output_type": "execute_result",
          "data": {
            "text/plain": [
              "(1987, 19)"
            ]
          },
          "metadata": {
            "tags": []
          },
          "execution_count": 163
        }
      ]
    },
    {
      "cell_type": "markdown",
      "metadata": {
        "id": "iUiLcbZBp8-F",
        "colab_type": "text"
      },
      "source": [
        "## Now converting into csv and it is ready to get use"
      ]
    },
    {
      "cell_type": "code",
      "metadata": {
        "id": "uBLboyW8p8-G",
        "colab_type": "code",
        "colab": {}
      },
      "source": [
        "#Store the clean DataFrame in a CSV file\n",
        "df=df_merged.to_csv('twitter_archive_master.csv', \n",
        "                 index=False, encoding = 'utf-8')"
      ],
      "execution_count": 0,
      "outputs": []
    },
    {
      "cell_type": "code",
      "metadata": {
        "id": "M4KOQuSYQX97",
        "colab_type": "code",
        "colab": {}
      },
      "source": [
        ""
      ],
      "execution_count": 0,
      "outputs": []
    }
  ]
}